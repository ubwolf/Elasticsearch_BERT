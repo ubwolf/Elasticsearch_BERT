{
 "cells": [
  {
   "cell_type": "code",
   "execution_count": 1,
   "metadata": {},
   "outputs": [
    {
     "name": "stdout",
     "output_type": "stream",
     "text": [
      "{\n",
      "  \"name\" : \"node-1\",\n",
      "  \"cluster_name\" : \"elasticsearch\",\n",
      "  \"cluster_uuid\" : \"Hd5owN6ERfSiT3DlTZTENg\",\n",
      "  \"version\" : {\n",
      "    \"number\" : \"8.2.2\",\n",
      "    \"build_flavor\" : \"default\",\n",
      "    \"build_type\" : \"deb\",\n",
      "    \"build_hash\" : \"9876968ef3c745186b94fdabd4483e01499224ef\",\n",
      "    \"build_date\" : \"2022-05-25T15:47:06.259735307Z\",\n",
      "    \"build_snapshot\" : false,\n",
      "    \"lucene_version\" : \"9.1.0\",\n",
      "    \"minimum_wire_compatibility_version\" : \"7.17.0\",\n",
      "    \"minimum_index_compatibility_version\" : \"7.0.0\"\n",
      "  },\n",
      "  \"tagline\" : \"You Know, for Search\"\n",
      "}\n"
     ]
    }
   ],
   "source": [
    "!curl http://localhost:9200/"
   ]
  },
  {
   "cell_type": "code",
   "execution_count": 2,
   "metadata": {},
   "outputs": [],
   "source": [
    "import elasticsearch \n",
    "import json\n",
    "\n",
    "from elasticsearch import helpers\n",
    "from collections import deque"
   ]
  },
  {
   "cell_type": "code",
   "execution_count": 3,
   "metadata": {},
   "outputs": [],
   "source": [
    "def data_gen(): \n",
    "    with open('./data_hub/data.json', 'r') as f:\n",
    "        data = json.load(f)  \n",
    "           \n",
    "    for i in data:\n",
    "        json_data = {}\n",
    "        json_data['title'] = i['title']\n",
    "        json_data['text'] = i['text']\n",
    "        json_data['url'] = i['url']\n",
    "        yield json_data "
   ]
  },
  {
   "cell_type": "code",
   "execution_count": 4,
   "metadata": {},
   "outputs": [
    {
     "data": {
      "text/plain": [
       "ObjectApiResponse({'_shards': {'total': 2, 'successful': 1, 'failed': 0}})"
      ]
     },
     "execution_count": 4,
     "metadata": {},
     "output_type": "execute_result"
    }
   ],
   "source": [
    "# Initiate Elasticsearch\n",
    "es = elasticsearch.Elasticsearch('http://127.0.0.1:9200/')\n",
    "\n",
    "# Bulk load data into Elasticsearch\n",
    "es.indices.create(index='dis_docs')\n",
    "deque(helpers.parallel_bulk(es, data_gen(), index='dis_docs'), maxlen=0)\n",
    "es.indices.refresh()"
   ]
  },
  {
   "cell_type": "code",
   "execution_count": 6,
   "metadata": {},
   "outputs": [
    {
     "name": "stderr",
     "output_type": "stream",
     "text": [
      "/tmp/ipykernel_21077/2386824436.py:4: DeprecationWarning: The 'body' parameter is deprecated and will be removed in a future version. Instead use individual parameters.\n",
      "  hits = es.search(index='dis_docs', body=query)\n"
     ]
    },
    {
     "data": {
      "text/plain": [
       "{'total': {'value': 1, 'relation': 'eq'},\n",
       " 'max_score': 6.7403617,\n",
       " 'hits': [{'_index': 'dis_docs',\n",
       "   '_id': 'nIngU4EB5DPWiFiNgAUE',\n",
       "   '_score': 6.7403617,\n",
       "   '_ignored': ['text.keyword'],\n",
       "   '_source': {'title': 'Plague of Cyprian',\n",
       "    'text': 'The Plague of Cyprian was a pandemic that afflicted the Roman Empire about from AD 249 to 262. The plague is thought to have caused widespread manpower shortages for food production and the Roman army, severely weakening the empire during the Crisis of the Third Century. Its modern name commemorates St. Cyprian, bishop of Carthage, an early Christian writer who witnessed and described the plague. The agent of the plague is highly speculative because of sparse sourcing, but suspects have included smallpox, pandemic influenza and viral hemorrhagic fever (filoviruses) like the Ebola virus.',\n",
       "    'url': 'https://en.wikipedia.org/wiki/Plague_of_Cyprian'}}]}"
      ]
     },
     "execution_count": 6,
     "metadata": {},
     "output_type": "execute_result"
    }
   ],
   "source": [
    "# Search documents in Elasticsearch\n",
    "query = {'query':{'match_phrase':{'text':'Plague of Cyprian'}}}\n",
    "\n",
    "hits = es.search(index='dis_docs', body=query) \n",
    "hits['hits']"
   ]
  }
 ],
 "metadata": {
  "interpreter": {
   "hash": "92b3875b50552a19f5c8b904a9bd9455a012f7f4a6644b61f5845177f2c2dbee"
  },
  "kernelspec": {
   "display_name": "Python 3.8.10 ('semantic_searchenv': venv)",
   "language": "python",
   "name": "python3"
  },
  "language_info": {
   "codemirror_mode": {
    "name": "ipython",
    "version": 3
   },
   "file_extension": ".py",
   "mimetype": "text/x-python",
   "name": "python",
   "nbconvert_exporter": "python",
   "pygments_lexer": "ipython3",
   "version": "3.8.10"
  },
  "orig_nbformat": 4
 },
 "nbformat": 4,
 "nbformat_minor": 2
}
