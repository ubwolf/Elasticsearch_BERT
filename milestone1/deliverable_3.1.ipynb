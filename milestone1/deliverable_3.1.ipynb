{
 "cells": [
  {
   "cell_type": "code",
   "execution_count": 1,
   "metadata": {},
   "outputs": [
    {
     "name": "stdout",
     "output_type": "stream",
     "text": [
      "{\n",
      "  \"name\" : \"node-1\",\n",
      "  \"cluster_name\" : \"elasticsearch\",\n",
      "  \"cluster_uuid\" : \"Hd5owN6ERfSiT3DlTZTENg\",\n",
      "  \"version\" : {\n",
      "    \"number\" : \"8.2.2\",\n",
      "    \"build_flavor\" : \"default\",\n",
      "    \"build_type\" : \"deb\",\n",
      "    \"build_hash\" : \"9876968ef3c745186b94fdabd4483e01499224ef\",\n",
      "    \"build_date\" : \"2022-05-25T15:47:06.259735307Z\",\n",
      "    \"build_snapshot\" : false,\n",
      "    \"lucene_version\" : \"9.1.0\",\n",
      "    \"minimum_wire_compatibility_version\" : \"7.17.0\",\n",
      "    \"minimum_index_compatibility_version\" : \"7.0.0\"\n",
      "  },\n",
      "  \"tagline\" : \"You Know, for Search\"\n",
      "}\n"
     ]
    }
   ],
   "source": [
    "!curl http://localhost:9200/"
   ]
  },
  {
   "cell_type": "code",
   "execution_count": 2,
   "metadata": {},
   "outputs": [],
   "source": [
    "import elasticsearch \n",
    "import json\n",
    "\n",
    "from elasticsearch import helpers\n",
    "from collections import deque"
   ]
  },
  {
   "cell_type": "code",
   "execution_count": 3,
   "metadata": {},
   "outputs": [],
   "source": [
    "def data_gen(): \n",
    "    with open('../data_hub/data.json', 'r') as f:\n",
    "        documents = json.load(f)  \n",
    "           \n",
    "    for doc in documents:\n",
    "        json_data = {}\n",
    "        json_data['article_title'] = doc['article_title']\n",
    "        json_data['section_title'] = doc['section_title']\n",
    "        json_data['main_section'] = doc['main_section']\n",
    "        json_data['section_number'] = doc['section_number']\n",
    "        json_data['page_id'] = doc['page_id']\n",
    "        json_data['text'] = doc['text']\n",
    "        json_data['source_url'] = doc['source_url']\n",
    "        json_data['tags'] = doc['tags']\n",
    "        yield json_data "
   ]
  },
  {
   "cell_type": "code",
   "execution_count": 4,
   "metadata": {},
   "outputs": [
    {
     "data": {
      "text/plain": [
       "ObjectApiResponse({'_shards': {'total': 2, 'successful': 1, 'failed': 0}})"
      ]
     },
     "execution_count": 4,
     "metadata": {},
     "output_type": "execute_result"
    }
   ],
   "source": [
    "# Initiate Elasticsearch\n",
    "es = elasticsearch.Elasticsearch('http://127.0.0.1:9200/')\n",
    "\n",
    "# Bulk load data into Elasticsearch\n",
    "es.indices.create(index='pandemic_docs')\n",
    "deque(helpers.parallel_bulk(es, data_gen(), index='pandemic_docs'), maxlen=0)\n",
    "es.indices.refresh()"
   ]
  },
  {
   "cell_type": "code",
   "execution_count": 5,
   "metadata": {},
   "outputs": [
    {
     "name": "stderr",
     "output_type": "stream",
     "text": [
      "/tmp/ipykernel_28308/1453526317.py:4: DeprecationWarning: The 'body' parameter is deprecated and will be removed in a future version. Instead use individual parameters.\n",
      "  hits = es.search(index='pandemic_docs', body=query)\n"
     ]
    },
    {
     "data": {
      "text/plain": [
       "{'total': {'value': 9, 'relation': 'eq'},\n",
       " 'max_score': 11.911831,\n",
       " 'hits': [{'_index': 'pandemic_docs',\n",
       "   '_id': 'y4kCVIEB5DPWiFiNugmg',\n",
       "   '_score': 11.911831,\n",
       "   '_ignored': ['text.keyword'],\n",
       "   '_source': {'article_title': 'Plague of Cyprian',\n",
       "    'section_title': 'Epidemiology',\n",
       "    'main_section': 'Epidemiology',\n",
       "    'section_number': 2,\n",
       "    'page_id': 16856479,\n",
       "    'text': \"Plague of Cyprian,Epidemiology\\nThe severe devastation to the European population from the two plagues may indicate that the people had no previous exposure or immunity to the plague's cause. The historian William Hardy McNeill asserts that both the earlier Antonine Plague (166–180) and the Plague of Cyprian (251–270) were the first transfers from animal hosts to humanity of two different diseases, one of smallpox and one of measles, but not necessarily in that order. D. Ch. Stathakopoulos asserts that both outbreaks were of smallpox.According to the historian Kyle Harper, the symptoms attributed by ancient sources to the Plague of Cyprian better match a viral disease causing a hemorrhagic fever, such as ebola, rather than smallpox. (Conversely, Harper believes that the Antonine Plague was caused by smallpox.)\",\n",
       "    'source_url': 'https://en.wikipedia.org/wiki/Plague_of_Cyprian',\n",
       "    'tags': 'Plague of Cyprian,Epidemiology'}},\n",
       "  {'_index': 'pandemic_docs',\n",
       "   '_id': 'zYkCVIEB5DPWiFiNugmg',\n",
       "   '_score': 11.423661,\n",
       "   '_source': {'article_title': 'Plague of Cyprian',\n",
       "    'section_title': 'See also',\n",
       "    'main_section': 'See also',\n",
       "    'section_number': 4,\n",
       "    'page_id': 16856479,\n",
       "    'text': 'Plague of Cyprian,See also\\nAntonine Plague\\nPandemic',\n",
       "    'source_url': 'https://en.wikipedia.org/wiki/Plague_of_Cyprian',\n",
       "    'tags': 'Plague of Cyprian,See also'}},\n",
       "  {'_index': 'pandemic_docs',\n",
       "   '_id': 'yYkCVIEB5DPWiFiNugmg',\n",
       "   '_score': 11.273935,\n",
       "   '_ignored': ['text.keyword'],\n",
       "   '_source': {'article_title': 'Plague of Cyprian',\n",
       "    'section_title': 'Summary',\n",
       "    'main_section': 'Summary',\n",
       "    'section_number': 0,\n",
       "    'page_id': 16856479,\n",
       "    'text': 'Plague of Cyprian,Summary\\nThe Plague of Cyprian was a pandemic that afflicted the Roman Empire about from AD 249 to 262. The plague is thought to have caused widespread manpower shortages for food production and the Roman army, severely weakening the empire during the Crisis of the Third Century. Its modern name commemorates St. Cyprian, bishop of Carthage, an early Christian writer who witnessed and described the plague. The agent of the plague is highly speculative because of sparse sourcing, but suspects have included smallpox, pandemic influenza and viral hemorrhagic fever (filoviruses) like the Ebola virus.',\n",
       "    'source_url': 'https://en.wikipedia.org/wiki/Plague_of_Cyprian',\n",
       "    'tags': 'Plague of Cyprian,Summary'}},\n",
       "  {'_index': 'pandemic_docs',\n",
       "   '_id': 'zokCVIEB5DPWiFiNugmg',\n",
       "   '_score': 11.246856,\n",
       "   '_source': {'article_title': 'Plague of Cyprian',\n",
       "    'section_title': 'External links',\n",
       "    'main_section': 'External links',\n",
       "    'section_number': 6,\n",
       "    'page_id': 16856479,\n",
       "    'text': \"Plague of Cyprian,External links,References\\nPontius' Life of Cyprian\\nCyprian's De Mortalitate\",\n",
       "    'source_url': 'https://en.wikipedia.org/wiki/Plague_of_Cyprian',\n",
       "    'tags': 'Plague of Cyprian,External links,References'}},\n",
       "  {'_index': 'pandemic_docs',\n",
       "   '_id': '_IkCVIEB5DPWiFiNugid',\n",
       "   '_score': 10.975077,\n",
       "   '_source': {'article_title': 'Antonine Plague',\n",
       "    'section_title': 'See also',\n",
       "    'main_section': 'See also',\n",
       "    'section_number': 6,\n",
       "    'page_id': 845862,\n",
       "    'text': 'Antonine Plague,See also,Impact\\nPlague of Cyprian\\nThird Pandemic (1855–1960)\\nSan Francisco plague of 1900–1904\\nList of epidemics',\n",
       "    'source_url': 'https://en.wikipedia.org/wiki/Antonine_Plague',\n",
       "    'tags': 'Antonine Plague,See also,Impact'}},\n",
       "  {'_index': 'pandemic_docs',\n",
       "   '_id': 'zIkCVIEB5DPWiFiNugmg',\n",
       "   '_score': 8.448601,\n",
       "   '_ignored': ['text.keyword'],\n",
       "   '_source': {'article_title': 'Plague of Cyprian',\n",
       "    'section_title': 'Legacy',\n",
       "    'main_section': 'Legacy',\n",
       "    'section_number': 3,\n",
       "    'page_id': 16856479,\n",
       "    'text': 'Plague of Cyprian,Legacy\\nAccording to Harper, the plague nearly saw the end of the Roman Empire, and in the period between AD 248 and 268, \"the history of Rome is a confusing tangle of violent failures. The structural integrity of the imperial machine burst apart. The frontier system crumbled. The collapse of legitimacy invited one usurper after another to try for the throne. The empire fragmented and only the dramatic success of later emperors in putting the pieces back together prevented this moment from being the final act of Roman imperial history.\"Both the threat of imminent death from the plague and the unwavering conviction among many of the Christian clergy in the face of it won many converts to the faith.',\n",
       "    'source_url': 'https://en.wikipedia.org/wiki/Plague_of_Cyprian',\n",
       "    'tags': 'Plague of Cyprian,Legacy'}},\n",
       "  {'_index': 'pandemic_docs',\n",
       "   '_id': '-IkCVIEB5DPWiFiNugid',\n",
       "   '_score': 6.7029524,\n",
       "   '_ignored': ['text.keyword'],\n",
       "   '_source': {'article_title': 'Antonine Plague',\n",
       "    'section_title': 'Epidemiology',\n",
       "    'main_section': 'Epidemiology',\n",
       "    'section_number': 1,\n",
       "    'page_id': 845862,\n",
       "    'text': 'Antonine Plague,Epidemiology\\nIn 166, during the epidemic, the Greek physician and writer Galen travelled from Rome to his home in Asia Minor and returned to Rome in 168, when he was summoned by the two Augusti, the co-emperors Marcus Aurelius and Lucius Verus. He was present at the outbreak among troops stationed at Aquileia in the winter of 168/69. Galen briefly recorded observations and a description of the epidemic in the treatise Methodus Medendi, and he scattered other references to it among his voluminous writings. He described the plague as \"great\" and of long duration, and mentioned fever, diarrhea, and pharyngitis as well as a skin eruption, sometimes dry and sometimes pustular, that appeared on the ninth day of the illness. The information that was provided by Galen did not clearly define the nature of the disease, but scholars have generally preferred to diagnose it as smallpox.The historian William H. McNeill asserts that the Antonine Plague and the later Plague of Cyprian (251–ca. 270) were outbreaks of two different diseases, one of smallpox and one of measles but not necessarily in that order. The severe devastation to the European population from the two plagues may indicate that people had no previous exposure to either disease, which brought immunity to survivors. Other historians believe that both outbreaks involved smallpox. The latter view is bolstered by molecular estimates that place the evolution of measles sometime after 1000 AD.',\n",
       "    'source_url': 'https://en.wikipedia.org/wiki/Antonine_Plague',\n",
       "    'tags': 'Antonine Plague,Epidemiology'}},\n",
       "  {'_index': 'pandemic_docs',\n",
       "   '_id': 'yokCVIEB5DPWiFiNugmg',\n",
       "   '_score': 3.9924812,\n",
       "   '_ignored': ['text.keyword'],\n",
       "   '_source': {'article_title': 'Plague of Cyprian',\n",
       "    'section_title': 'Contemporary accounts',\n",
       "    'main_section': 'Contemporary accounts',\n",
       "    'section_number': 1,\n",
       "    'page_id': 16856479,\n",
       "    'text': 'Plague of Cyprian,Contemporary accounts\\nIn 250 to 262, at the height of the outbreak, 5,000 people a day were said to be dying in Rome. Cyprian\\'s biographer, Pontius of Carthage, wrote of the plague at Carthage:\\n\\nAfterwards there broke out a dreadful plague, and excessive destruction of a hateful disease invaded every house in succession of the trembling populace, carrying off day by day with abrupt attack numberless people, every one from his own house. All were shuddering, fleeing, shunning the contagion, impiously exposing their own friends, as if with the exclusion of the person who was sure to die of the plague, one could exclude death itself also. There lay about the meanwhile, over the whole city, no longer bodies, but the carcasses of many, and, by the contemplation of a lot which in their turn would be theirs, demanded the pity of the passers-by for themselves. No one regarded anything besides his cruel gains. No one trembled at the remembrance of a similar event. No one did to another what he himself wished to experience.\\nIn Carthage, the \"Decian Persecution\", unleashed at the onset of the plague, perhaps inadvertently led to the criminalization of Christians\\' refusal to take an oath. Fifty years later, a North African convert to Christianity, Arnobius, defended his new religion from pagan allegations:\\n\\nthat a plague was brought upon the earth after the Christian religion came into the world, and after it revealed the mysteries of hidden truth? But pestilences, say my opponents, and droughts, wars, famines, locusts, mice, and hailstones, and other hurtful things, by which the property of men is assailed, the gods bring upon us, incensed as they are by your wrong-doings and by your transgressions.\\nCyprian drew moralizing analogies in his sermons to the Christian community and drew a word picture of the plague\\'s symptoms in his essay De mortalitate (\"On the Plague\"):\\n\\nThis trial, that now the bowels, relaxed into a constant flux, discharge the bodily strength; that a fire originated in the marrow ferments into wounds of the fauces; that the intestines are shaken with a continual vomiting; that the eyes are on fire with the injected blood; that in some cases the feet or some parts of the limbs are taken off by the contagion of diseased putrefaction; that from the weakness arising by the maiming and loss of the body, either the gait is enfeebled, or the hearing is obstructed, or the sight darkened;—is profitable as a proof of faith. What a grandeur of spirit it is to struggle with all the powers of an unshaken mind against so many onsets of devastation and death! what sublimity, to stand erect amid the desolation of the human race, and not to lie prostrate with those who have no hope in God; but rather to rejoice, and to embrace the benefit of the occasion; that in thus bravely showing forth our faith, and by suffering endured, going forward to Christ by the narrow way that Christ trod, we may receive the reward of His life and faith according to His own judgment!\\nAccounts of the plague date it about AD 249 to 262. There was a later incident in 270 that involved the death of Claudius II Gothicus, but it is unknown if this was the same plague or a different outbreak. According to the Historia Augusta, \"in the consulship of Antiochianus and Orfitus the favour of heaven furthered Claudius\\' success. For a great multitude, the survivors of the barbarian tribes, who had gathered in Haemimontum were so stricken with famine and pestilence that Claudius now scorned to conquer them further... during this same period the Scythians attempted to plunder in Crete and Cyprus as well, but everywhere their armies were likewise stricken with pestilence and so were defeated\".',\n",
       "    'source_url': 'https://en.wikipedia.org/wiki/Plague_of_Cyprian',\n",
       "    'tags': 'Plague of Cyprian,Contemporary accounts'}},\n",
       "  {'_index': 'pandemic_docs',\n",
       "   '_id': '0IkCVIEB5DPWiFiNugid',\n",
       "   '_score': 2.4449863,\n",
       "   '_ignored': ['text.keyword'],\n",
       "   '_source': {'article_title': 'Pandemic',\n",
       "    'section_title': 'Notable outbreaks',\n",
       "    'main_section': 'Notable outbreaks',\n",
       "    'section_number': 10,\n",
       "    'page_id': 24255,\n",
       "    'text': 'Pandemic,Notable outbreaks,Major outbreaks in countries\\nIn human history, it is generally zoonoses such as influenza and tuberculosis which constitute most of the widespread outbreaks, resulting from the domestication of animals. There have been a number of particularly significant epidemics that deserve mention above the \"mere\" destruction of cities:\\n\\nPlague of Athens (430 to 426 BC): During the Peloponnesian War, typhoid fever killed a quarter of the Athenian troops and a quarter of the population. This disease fatally weakened the dominance of Athens, but the sheer virulence of the disease prevented its wider spread; i.e. it killed off its hosts at a rate faster than they could spread it. The exact cause of the plague was unknown for many years. In January 2006, researchers from the University of Athens analyzed teeth recovered from a mass grave underneath the city and confirmed the presence of bacteria responsible for typhoid.\\nAntonine Plague (165 to 180 AD): Possibly measles or smallpox brought to the Italian peninsula by soldiers returning from the Near East, it killed a quarter of those infected, up to five million in total.\\nPlague of Cyprian (251–266 AD): A second outbreak of what may have been the same disease as the Antonine Plague killed (it was said) 5,000 people a day in Rome.\\nPlague of Justinian (541 to 750 AD): The first recorded outbreak of bubonic plague started in Egypt and reached Constantinople the following spring, killing (according to the Byzantine chronicler Procopius) 10,000 a day at its height, and perhaps 40% of the city\\'s inhabitants. The plague went on to eliminate a quarter to half the human population of the known world. It caused Europe\\'s population to drop by around 50% between 550 AD and 700 AD.\\nBlack Death (1331 to 1353): The total number of deaths worldwide is estimated at 75 to 200 million. Eight hundred years after the last outbreak, the plague returned to Europe. Starting in Asia, the disease reached the Mediterranean and western Europe in 1348 (possibly from Italian merchants fleeing fighting in Crimea), and killed an estimated 20 to 30 million Europeans in six years; a third of the total population, and up to a half in the worst-affected urban areas. It was the first of a cycle of European plague epidemics that continued until the 18th century. There were more than 100 plague epidemics in Europe during this period. The disease recurred in England every two to five years from 1361 to 1480. By the 1370s, England\\'s population was reduced by 50%. The Great Plague of London of 1665–66 was the last major outbreak of the plague in England and killed approximately 100,000 people, 20% of London\\'s population.\\nThird plague pandemic (1855): Starting in China, it spread into India, where 10 million people died. During this pandemic, the United States saw its first outbreak: the San Francisco plague of 1900–1904. Today, sporadic cases of plague still occur in the western United States.\\nThe 1918 flu pandemic infected half a billion people—around the world, including on remote Pacific islands and in the Arctic—killing 20 to 100 million. Most influenza outbreaks disproportionately kill the very young and the very old, with higher survival rates for those in between, but the 1918 pandemic had an unusually high mortality rate for young adults. (It killed more people in 25 weeks than AIDS did in its first 25 years.) Mass troop movements and close quarters during World War I caused it to spread and mutate faster, and the susceptibility of soldiers to the flu may have been increased by stress, malnourishment and chemical attacks. Improved transportation systems made it easier for soldiers, sailors and civilian travelers to spread the disease.\\nEncounters between European explorers and populations in the rest of the world often introduced epidemics of extraordinary virulence. Disease killed part of the native population of the Canary Islands in the 16th century (Guanches). Half the native population of Hispaniola in 1518 was killed by smallpox. Smallpox also ravaged Mexico in the 1520s, killing 150,000 in Tenochtitlán alone, including the emperor, and in Peru in the 1530s, aiding the European conquerors. Measles killed a further two million Mexican natives in the 17th century. In 1618–1619, smallpox wiped out 90% of the Massachusetts Bay Native Americans. During the 1770s, smallpox killed at least 30% of the Pacific Northwest Native Americans. Smallpox epidemics in 1780–1782 and 1837–1838 brought devastation and drastic depopulation among the Plains Indians. Some believe the death of up to 95% of the Native American population of the New World was caused by Europeans introducing Old World diseases such as smallpox, measles and influenza. Over the centuries, Europeans had developed high degrees of herd immunity to these diseases, while the indigenous peoples had no such immunity.Smallpox devastated the native population of Australia, killing around 50% of Indigenous Australians in the early years of British colonisation. It also killed many New Zealand Māori. In 1848–49, as many as 40,000 out of 150,000 Hawaiians are estimated to have died of measles, whooping cough and influenza. Introduced diseases, notably smallpox, nearly wiped out the native population of Easter Island. Measles killed more than 40,000 Fijians, approximately one-third of the population, in 1875, and in the early 19th century devastated the Andamanese population. The Ainu population decreased drastically in the 19th century, due in large part\\nto infectious diseases brought by Japanese settlers pouring into Hokkaido.Researchers concluded that syphilis was carried from the New World to Europe after Columbus\\'s voyages. The findings suggested Europeans could have carried the nonvenereal tropical bacteria home, where the organisms may have mutated into a more deadly form in the different conditions of Europe. The disease was more frequently fatal than it is today. Syphilis was a major killer in Europe during the Renaissance. Between 1602 and 1796, the Dutch East India Company sent almost a million Europeans to work in Asia. Ultimately, fewer than a third made their way back to Europe. The majority died of diseases. Disease killed more British soldiers in India and South Africa than war.As early as 1803, the Spanish Crown organized a mission (the Balmis expedition) to transport the smallpox vaccine to the Spanish colonies, and establish mass vaccination programs there. By 1832, the federal government of the United States established a smallpox vaccination program for Native Americans. From the beginning of the 20th century onwards, the elimination or control of disease in tropical countries became a driving force for all colonial powers. The sleeping sickness epidemic in Africa was arrested due to mobile teams systematically screening millions of people at risk. In the 20th century, the world saw the biggest increase in its population in human history due to a drop in the mortality rate in many countries as a result of medical advances. The world population has grown from 1.6 billion in 1900 to an estimated 6.8 billion in 2011.Dengue Fever: Dengue is spread by several species of female mosquitoes of the Aedes type, principally A. aegypti. The virus has five types; infection with one type usually gives lifelong immunity to that type, but only short-term immunity to the others. Subsequent infection with a different type increases the risk of severe complications. A number of tests are available to confirm the diagnosis including detecting antibodies to the virus or its RNA.',\n",
       "    'source_url': 'https://en.wikipedia.org/wiki/Pandemic',\n",
       "    'tags': 'Pandemic,Notable outbreaks,Major outbreaks in countries'}}]}"
      ]
     },
     "execution_count": 5,
     "metadata": {},
     "output_type": "execute_result"
    }
   ],
   "source": [
    "# Search documents in Elasticsearch\n",
    "query = {'query':{'match_phrase':{'text':'Plague of Cyprian'}}}\n",
    "\n",
    "hits = es.search(index='pandemic_docs', body=query) \n",
    "hits['hits']"
   ]
  },
  {
   "cell_type": "code",
   "execution_count": 6,
   "metadata": {},
   "outputs": [
    {
     "data": {
      "text/plain": [
       "ListApiResponse([{'epoch': '1654971883', 'timestamp': '18:24:43', 'count': '401'}])"
      ]
     },
     "execution_count": 6,
     "metadata": {},
     "output_type": "execute_result"
    }
   ],
   "source": [
    "es.cat.count(index='_all', format='json')"
   ]
  },
  {
   "cell_type": "code",
   "execution_count": 7,
   "metadata": {},
   "outputs": [
    {
     "data": {
      "text/plain": [
       "ListApiResponse([{'epoch': '1654971885', 'timestamp': '18:24:45', 'count': '401'}])"
      ]
     },
     "execution_count": 7,
     "metadata": {},
     "output_type": "execute_result"
    }
   ],
   "source": [
    "es.cat.count(index='pandemic_docs', format='json')"
   ]
  }
 ],
 "metadata": {
  "interpreter": {
   "hash": "92b3875b50552a19f5c8b904a9bd9455a012f7f4a6644b61f5845177f2c2dbee"
  },
  "kernelspec": {
   "display_name": "Python 3.8.10 ('semantic_searchenv': venv)",
   "language": "python",
   "name": "python3"
  },
  "language_info": {
   "codemirror_mode": {
    "name": "ipython",
    "version": 3
   },
   "file_extension": ".py",
   "mimetype": "text/x-python",
   "name": "python",
   "nbconvert_exporter": "python",
   "pygments_lexer": "ipython3",
   "version": "3.8.10"
  },
  "orig_nbformat": 4
 },
 "nbformat": 4,
 "nbformat_minor": 2
}
