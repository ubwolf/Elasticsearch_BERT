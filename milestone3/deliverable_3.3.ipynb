{
 "cells": [
  {
   "cell_type": "code",
   "execution_count": 1,
   "metadata": {},
   "outputs": [],
   "source": [
    "import elasticsearch \n",
    "import json\n",
    "import torch\n",
    "\n",
    "from sentence_transformers import SentenceTransformer, util\n",
    "from pprint import pprint"
   ]
  },
  {
   "cell_type": "code",
   "execution_count": 2,
   "metadata": {},
   "outputs": [],
   "source": [
    "# Initiate Elasticsearch\n",
    "es = elasticsearch.Elasticsearch('http://127.0.0.1:9200/')\n",
    "\n",
    "# Initiate Transformer\n",
    "model = SentenceTransformer('roberta-large-nli-stsb-mean-tokens')\n",
    "device = 'cuda' if torch.cuda.is_available() else 'cpu'\n",
    "model = model.to(device)"
   ]
  },
  {
   "cell_type": "code",
   "execution_count": 3,
   "metadata": {},
   "outputs": [
    {
     "name": "stderr",
     "output_type": "stream",
     "text": [
      "/tmp/ipykernel_14702/1306058125.py:15: DeprecationWarning: The 'body' parameter is deprecated and will be removed in a future version. Instead use individual parameters.\n",
      "  results = index.search(index='pandemic_docs', body=search_query, size=50)\n"
     ]
    },
    {
     "data": {
      "application/vnd.jupyter.widget-view+json": {
       "model_id": "11032ad5beae4b25a760895de4aa348f",
       "version_major": 2,
       "version_minor": 0
      },
      "text/plain": [
       "Batches:   0%|          | 0/2 [00:00<?, ?it/s]"
      ]
     },
     "metadata": {},
     "output_type": "display_data"
    },
    {
     "data": {
      "application/vnd.jupyter.widget-view+json": {
       "model_id": "50ffb083fab940f08ce0aea2deb162e2",
       "version_major": 2,
       "version_minor": 0
      },
      "text/plain": [
       "Batches:   0%|          | 0/2 [00:00<?, ?it/s]"
      ]
     },
     "metadata": {},
     "output_type": "display_data"
    },
    {
     "data": {
      "application/vnd.jupyter.widget-view+json": {
       "model_id": "f4df1fa5a2474f3bb16e86c519d57d60",
       "version_major": 2,
       "version_minor": 0
      },
      "text/plain": [
       "Batches:   0%|          | 0/2 [00:00<?, ?it/s]"
      ]
     },
     "metadata": {},
     "output_type": "display_data"
    },
    {
     "data": {
      "application/vnd.jupyter.widget-view+json": {
       "model_id": "b9e3c5b5c5c0495495381a805de1d39f",
       "version_major": 2,
       "version_minor": 0
      },
      "text/plain": [
       "Batches:   0%|          | 0/2 [00:00<?, ?it/s]"
      ]
     },
     "metadata": {},
     "output_type": "display_data"
    },
    {
     "data": {
      "application/vnd.jupyter.widget-view+json": {
       "model_id": "13fa09eb21654c5e88127c9f9daae2ff",
       "version_major": 2,
       "version_minor": 0
      },
      "text/plain": [
       "Batches:   0%|          | 0/2 [00:00<?, ?it/s]"
      ]
     },
     "metadata": {},
     "output_type": "display_data"
    },
    {
     "data": {
      "application/vnd.jupyter.widget-view+json": {
       "model_id": "a4bb7992adb64b2394e5a761464972df",
       "version_major": 2,
       "version_minor": 0
      },
      "text/plain": [
       "Batches:   0%|          | 0/2 [00:00<?, ?it/s]"
      ]
     },
     "metadata": {},
     "output_type": "display_data"
    },
    {
     "data": {
      "application/vnd.jupyter.widget-view+json": {
       "model_id": "2f2795c62e784cc9af625ac432123e9e",
       "version_major": 2,
       "version_minor": 0
      },
      "text/plain": [
       "Batches:   0%|          | 0/2 [00:00<?, ?it/s]"
      ]
     },
     "metadata": {},
     "output_type": "display_data"
    },
    {
     "data": {
      "application/vnd.jupyter.widget-view+json": {
       "model_id": "fa1b19017e134a7ab2b6c66339873b08",
       "version_major": 2,
       "version_minor": 0
      },
      "text/plain": [
       "Batches:   0%|          | 0/2 [00:00<?, ?it/s]"
      ]
     },
     "metadata": {},
     "output_type": "display_data"
    },
    {
     "data": {
      "application/vnd.jupyter.widget-view+json": {
       "model_id": "11f180c19fdf493e955fb9d5f65ca74b",
       "version_major": 2,
       "version_minor": 0
      },
      "text/plain": [
       "Batches:   0%|          | 0/2 [00:00<?, ?it/s]"
      ]
     },
     "metadata": {},
     "output_type": "display_data"
    },
    {
     "data": {
      "application/vnd.jupyter.widget-view+json": {
       "model_id": "cbc3d7916fea47eda5c3d5869ac06165",
       "version_major": 2,
       "version_minor": 0
      },
      "text/plain": [
       "Batches:   0%|          | 0/2 [00:00<?, ?it/s]"
      ]
     },
     "metadata": {},
     "output_type": "display_data"
    },
    {
     "name": "stdout",
     "output_type": "stream",
     "text": [
      "[{'question': 'How many people have died during Black Death?',\n",
      "  'results': [{'BERT_score': 0.25094470381736755,\n",
      "               'section_title': 'Economic impact',\n",
      "               'title': 'HIV/AIDS'},\n",
      "              {'BERT_score': 0.2435573786497116,\n",
      "               'section_title': 'Epidemiology',\n",
      "               'title': 'HIV/AIDS'},\n",
      "              {'BERT_score': 0.23495584726333618,\n",
      "               'section_title': 'Tuberculosis',\n",
      "               'title': 'Pandemic'},\n",
      "              {'BERT_score': 0.22389301657676697,\n",
      "               'section_title': 'Ebola',\n",
      "               'title': 'Science diplomacy and pandemics'},\n",
      "              {'BERT_score': 0.2073315978050232,\n",
      "               'section_title': 'Epidemiology',\n",
      "               'title': 'Cholera'},\n",
      "              {'BERT_score': 0.19188454747200012,\n",
      "               'section_title': 'Prognosis',\n",
      "               'title': 'HIV/AIDS'},\n",
      "              {'BERT_score': 0.1677030622959137,\n",
      "               'section_title': 'Deaths',\n",
      "               'title': 'COVID-19 pandemic'},\n",
      "              {'BERT_score': 0.14953705668449402,\n",
      "               'section_title': 'Prognosis',\n",
      "               'title': 'Cholera'},\n",
      "              {'BERT_score': 0.14793744683265686,\n",
      "               'section_title': 'Problems with the bills',\n",
      "               'title': 'Bills of mortality'},\n",
      "              {'BERT_score': 0.1404772400856018,\n",
      "               'section_title': 'February 1930',\n",
      "               'title': '1929–1930 psittacosis pandemic'}]},\n",
      " {'question': 'Which diseases can be transmitted by animals?',\n",
      "  'results': [{'BERT_score': 0.6061636209487915,\n",
      "               'section_title': 'Animal viruses',\n",
      "               'title': 'Virus'},\n",
      "              {'BERT_score': 0.5216580033302307,\n",
      "               'section_title': 'Influenza',\n",
      "               'title': 'Pandemic'},\n",
      "              {'BERT_score': 0.49738937616348267,\n",
      "               'section_title': 'Between pigs',\n",
      "               'title': 'Swine influenza'},\n",
      "              {'BERT_score': 0.4876520037651062,\n",
      "               'section_title': 'Cancer',\n",
      "               'title': 'Virus'},\n",
      "              {'BERT_score': 0.48683470487594604,\n",
      "               'section_title': 'Zoonotic viruses',\n",
      "               'title': 'Disease X'},\n",
      "              {'BERT_score': 0.4779263734817505,\n",
      "               'section_title': 'Surveillance and mapping',\n",
      "               'title': 'Pandemic prevention'},\n",
      "              {'BERT_score': 0.4629307985305786,\n",
      "               'section_title': 'Humans',\n",
      "               'title': 'Swine influenza'},\n",
      "              {'BERT_score': 0.45583176612854004,\n",
      "               'section_title': 'Stages',\n",
      "               'title': 'Pandemic'},\n",
      "              {'BERT_score': 0.4511268734931946,\n",
      "               'section_title': 'To humans',\n",
      "               'title': 'Swine influenza'},\n",
      "              {'BERT_score': 0.44799119234085083,\n",
      "               'section_title': 'Vaccines',\n",
      "               'title': 'Virus'}]},\n",
      " {'question': 'Connection between climate change and a likelihood of a '\n",
      "              'pandemic',\n",
      "  'results': [{'BERT_score': 0.4832811951637268,\n",
      "               'section_title': 'Environmental policy and economics',\n",
      "               'title': 'Pandemic prevention'},\n",
      "              {'BERT_score': 0.46905532479286194,\n",
      "               'section_title': 'Viral hemorrhagic fevers',\n",
      "               'title': 'Pandemic'},\n",
      "              {'BERT_score': 0.4556148946285248,\n",
      "               'section_title': 'Guidelines',\n",
      "               'title': 'Pandemic severity index'},\n",
      "              {'BERT_score': 0.40958282351493835,\n",
      "               'section_title': 'Infrastructure and international development',\n",
      "               'title': 'Pandemic prevention'},\n",
      "              {'BERT_score': 0.3829239010810852,\n",
      "               'section_title': 'Role in human disease',\n",
      "               'title': 'Virus'},\n",
      "              {'BERT_score': 0.3743698000907898,\n",
      "               'section_title': 'Coronaviruses',\n",
      "               'title': 'Pandemic'},\n",
      "              {'BERT_score': 0.3532867431640625,\n",
      "               'section_title': 'Pathophysiology',\n",
      "               'title': 'HIV/AIDS'},\n",
      "              {'BERT_score': 0.3319682478904724,\n",
      "               'section_title': 'Notable outbreaks',\n",
      "               'title': 'Pandemic'},\n",
      "              {'BERT_score': 0.32973766326904297,\n",
      "               'section_title': 'Agriculture and food systems',\n",
      "               'title': 'COVID-19 pandemic'},\n",
      "              {'BERT_score': 0.3245854079723358,\n",
      "               'section_title': 'Sari filtration',\n",
      "               'title': 'Cholera'}]},\n",
      " {'question': 'What is an example of a latent virus',\n",
      "  'results': [{'BERT_score': 0.5748997330665588,\n",
      "               'section_title': 'Dormant and latent infections',\n",
      "               'title': 'Virus'},\n",
      "              {'BERT_score': 0.515216588973999,\n",
      "               'section_title': 'Cancer',\n",
      "               'title': 'Virus'},\n",
      "              {'BERT_score': 0.505664587020874,\n",
      "               'section_title': 'Role in human disease',\n",
      "               'title': 'Virus'},\n",
      "              {'BERT_score': 0.49975326657295227,\n",
      "               'section_title': 'Latent infectious period, isolation after '\n",
      "                                'diagnosis',\n",
      "               'title': 'Basic reproduction number'},\n",
      "              {'BERT_score': 0.4974414110183716,\n",
      "               'section_title': 'History',\n",
      "               'title': 'Virus'},\n",
      "              {'BERT_score': 0.48099011182785034,\n",
      "               'section_title': 'Surveillance',\n",
      "               'title': 'Swine influenza'},\n",
      "              {'BERT_score': 0.4766607880592346,\n",
      "               'section_title': 'Summary',\n",
      "               'title': 'Viral load'},\n",
      "              {'BERT_score': 0.4637020528316498,\n",
      "               'section_title': 'With varying latent periods',\n",
      "               'title': 'Basic reproduction number'},\n",
      "              {'BERT_score': 0.45914608240127563,\n",
      "               'section_title': 'Summary',\n",
      "               'title': 'Virus'},\n",
      "              {'BERT_score': 0.44315874576568604,\n",
      "               'section_title': 'Virology',\n",
      "               'title': 'HIV/AIDS'}]},\n",
      " {'question': 'Viruses in nanotechnology',\n",
      "  'results': [{'BERT_score': 0.6586352586746216,\n",
      "               'section_title': 'Materials science and nanotechnology',\n",
      "               'title': 'Virus'},\n",
      "              {'BERT_score': 0.6577219367027283,\n",
      "               'section_title': 'Genome replication',\n",
      "               'title': 'Virus'},\n",
      "              {'BERT_score': 0.653774082660675,\n",
      "               'section_title': 'Cancer',\n",
      "               'title': 'Virus'},\n",
      "              {'BERT_score': 0.6364589929580688,\n",
      "               'section_title': 'Life sciences and medicine',\n",
      "               'title': 'Virus'},\n",
      "              {'BERT_score': 0.619369387626648,\n",
      "               'section_title': 'Virotherapy',\n",
      "               'title': 'Virus'},\n",
      "              {'BERT_score': 0.6173316240310669,\n",
      "               'section_title': 'Role in human disease',\n",
      "               'title': 'Virus'},\n",
      "              {'BERT_score': 0.6107864379882812,\n",
      "               'section_title': 'Prevention and treatment',\n",
      "               'title': 'Virus'},\n",
      "              {'BERT_score': 0.5999225378036499,\n",
      "               'section_title': 'Cytopathic effects on the host cell',\n",
      "               'title': 'Virus'},\n",
      "              {'BERT_score': 0.5948140621185303,\n",
      "               'section_title': 'Genetic mutation',\n",
      "               'title': 'Virus'},\n",
      "              {'BERT_score': 0.5924224853515625,\n",
      "               'section_title': 'Infection in other species',\n",
      "               'title': 'Virus'}]},\n",
      " {'question': 'Giant viruses classification',\n",
      "  'results': [{'BERT_score': 0.5190324783325195,\n",
      "               'section_title': 'Role in evolution',\n",
      "               'title': 'Virus'},\n",
      "              {'BERT_score': 0.4473590850830078,\n",
      "               'section_title': 'Giant viruses',\n",
      "               'title': 'Virus'},\n",
      "              {'BERT_score': 0.4357098937034607,\n",
      "               'section_title': 'Materials science and nanotechnology',\n",
      "               'title': 'Virus'},\n",
      "              {'BERT_score': 0.4350021183490753,\n",
      "               'section_title': 'Genome',\n",
      "               'title': 'Virus'},\n",
      "              {'BERT_score': 0.4207167327404022,\n",
      "               'section_title': 'ICTV classification',\n",
      "               'title': 'Virus'},\n",
      "              {'BERT_score': 0.40691328048706055,\n",
      "               'section_title': 'Life sciences and medicine',\n",
      "               'title': 'Virus'},\n",
      "              {'BERT_score': 0.39551985263824463,\n",
      "               'section_title': 'Cancer',\n",
      "               'title': 'Virus'},\n",
      "              {'BERT_score': 0.39358606934547424,\n",
      "               'section_title': 'Bacterial viruses',\n",
      "               'title': 'Virus'},\n",
      "              {'BERT_score': 0.3910563290119171,\n",
      "               'section_title': 'Genome replication',\n",
      "               'title': 'Virus'},\n",
      "              {'BERT_score': 0.39091867208480835,\n",
      "               'section_title': 'Archaeal viruses',\n",
      "               'title': 'Virus'}]},\n",
      " {'question': 'What are the notable pandemic prevention organizations?',\n",
      "  'results': [{'BERT_score': 0.6369174718856812,\n",
      "               'section_title': 'Summary',\n",
      "               'title': 'Pandemic prevention'},\n",
      "              {'BERT_score': 0.5777342319488525,\n",
      "               'section_title': 'Infrastructure and international development',\n",
      "               'title': 'Pandemic prevention'},\n",
      "              {'BERT_score': 0.5198867321014404,\n",
      "               'section_title': 'Prevention versus mitigation',\n",
      "               'title': 'Pandemic prevention'},\n",
      "              {'BERT_score': 0.5095005035400391,\n",
      "               'section_title': 'Context',\n",
      "               'title': 'Pandemic severity index'},\n",
      "              {'BERT_score': 0.5073705315589905,\n",
      "               'section_title': 'Vaccination',\n",
      "               'title': 'Pandemic prevention'},\n",
      "              {'BERT_score': 0.45566537976264954,\n",
      "               'section_title': 'Severity',\n",
      "               'title': 'Pandemic'},\n",
      "              {'BERT_score': 0.4381885826587677,\n",
      "               'section_title': 'Testing and containment',\n",
      "               'title': 'Pandemic prevention'},\n",
      "              {'BERT_score': 0.43783122301101685,\n",
      "               'section_title': 'Key findings',\n",
      "               'title': 'Crimson Contagion'},\n",
      "              {'BERT_score': 0.4359099864959717,\n",
      "               'section_title': 'Vaccination',\n",
      "               'title': 'Swine influenza'},\n",
      "              {'BERT_score': 0.4276118874549866,\n",
      "               'section_title': 'Guidelines',\n",
      "               'title': 'Pandemic severity index'}]},\n",
      " {'question': 'How many leprosy outbreaks are known to happen?',\n",
      "  'results': [{'BERT_score': 0.6265040636062622,\n",
      "               'section_title': 'Leprosy',\n",
      "               'title': 'Pandemic'},\n",
      "              {'BERT_score': 0.5114715695381165,\n",
      "               'section_title': 'Malaria',\n",
      "               'title': 'Pandemic'},\n",
      "              {'BERT_score': 0.4545538127422333,\n",
      "               'section_title': 'Epidemiology',\n",
      "               'title': 'Cholera'},\n",
      "              {'BERT_score': 0.4533334970474243,\n",
      "               'section_title': 'Virology',\n",
      "               'title': 'HIV/AIDS'},\n",
      "              {'BERT_score': 0.44070589542388916,\n",
      "               'section_title': 'Antibiotic resistance',\n",
      "               'title': 'Cholera'},\n",
      "              {'BERT_score': 0.4323239326477051,\n",
      "               'section_title': 'Summary',\n",
      "               'title': 'HIV/AIDS'},\n",
      "              {'BERT_score': 0.41981199383735657,\n",
      "               'section_title': 'Surveillance and mapping',\n",
      "               'title': 'Pandemic prevention'},\n",
      "              {'BERT_score': 0.40919095277786255,\n",
      "               'section_title': 'Clinical latency',\n",
      "               'title': 'HIV/AIDS'},\n",
      "              {'BERT_score': 0.39738163352012634,\n",
      "               'section_title': 'Measles',\n",
      "               'title': 'Pandemic'},\n",
      "              {'BERT_score': 0.37950819730758667,\n",
      "               'section_title': 'Structure',\n",
      "               'title': 'Virus'}]},\n",
      " {'question': 'What are the geographic areas with the highest transmission of '\n",
      "              'malaria?',\n",
      "  'results': [{'BERT_score': 0.45976755023002625,\n",
      "               'section_title': 'Malaria',\n",
      "               'title': 'Pandemic'},\n",
      "              {'BERT_score': 0.43438082933425903,\n",
      "               'section_title': 'Epidemiology',\n",
      "               'title': 'Cholera'},\n",
      "              {'BERT_score': 0.4197292923927307,\n",
      "               'section_title': 'Sub-Saharan Africa',\n",
      "               'title': 'Epidemiology of HIV/AIDS'},\n",
      "              {'BERT_score': 0.3963688611984253,\n",
      "               'section_title': 'Antibiotic resistance',\n",
      "               'title': 'Pandemic'},\n",
      "              {'BERT_score': 0.3902825117111206,\n",
      "               'section_title': 'Acquired immunodeficiency syndrome',\n",
      "               'title': 'HIV/AIDS'},\n",
      "              {'BERT_score': 0.3797479271888733,\n",
      "               'section_title': 'Global HIV data',\n",
      "               'title': 'Epidemiology of HIV/AIDS'},\n",
      "              {'BERT_score': 0.3779398500919342,\n",
      "               'section_title': 'East Asia',\n",
      "               'title': 'Epidemiology of HIV/AIDS'},\n",
      "              {'BERT_score': 0.3543909192085266,\n",
      "               'section_title': 'Diagnosis',\n",
      "               'title': 'HIV/AIDS'},\n",
      "              {'BERT_score': 0.3453808128833771,\n",
      "               'section_title': 'Surveillance',\n",
      "               'title': 'Swine influenza'},\n",
      "              {'BERT_score': 0.3439697325229645,\n",
      "               'section_title': 'By region',\n",
      "               'title': 'Epidemiology of HIV/AIDS'}]},\n",
      " {'question': 'How to prevent the spread of viral infections?',\n",
      "  'results': [{'BERT_score': 0.5656845569610596,\n",
      "               'section_title': 'Prevention',\n",
      "               'title': 'Swine influenza'},\n",
      "              {'BERT_score': 0.5456916093826294,\n",
      "               'section_title': 'Viral hemorrhagic fevers',\n",
      "               'title': 'Pandemic'},\n",
      "              {'BERT_score': 0.5454721450805664,\n",
      "               'section_title': 'Opportunistic infections',\n",
      "               'title': 'HIV/AIDS'},\n",
      "              {'BERT_score': 0.5451000332832336,\n",
      "               'section_title': 'Prevention versus mitigation',\n",
      "               'title': 'Pandemic prevention'},\n",
      "              {'BERT_score': 0.5426653623580933,\n",
      "               'section_title': 'Humans',\n",
      "               'title': 'Swine influenza'},\n",
      "              {'BERT_score': 0.5372458696365356,\n",
      "               'section_title': 'Pathogen detection and prediction',\n",
      "               'title': 'Pandemic prevention'},\n",
      "              {'BERT_score': 0.5144169330596924,\n",
      "               'section_title': 'Rationale',\n",
      "               'title': 'Disease X'},\n",
      "              {'BERT_score': 0.5003092885017395,\n",
      "               'section_title': 'Host defence mechanisms',\n",
      "               'title': 'Virus'},\n",
      "              {'BERT_score': 0.4968673586845398,\n",
      "               'section_title': 'Swine',\n",
      "               'title': 'Swine influenza'},\n",
      "              {'BERT_score': 0.48470693826675415,\n",
      "               'section_title': 'Face masks and respiratory hygiene',\n",
      "               'title': 'COVID-19 pandemic'}]}]\n"
     ]
    }
   ],
   "source": [
    "def load_questions(data_loc):\n",
    "    with open(data_loc) as f:\n",
    "        qs = json.load(f)\n",
    "    return qs\n",
    "\n",
    "\n",
    "def search(index, query):\n",
    "    search_query = {\"query\": {\n",
    "                       \"bool\": {\n",
    "                           \"should\": { \"match\": {\"text\": query}},\n",
    "                           \"must_not\": {\"terms\" : { \"section_title.keyword\" : excluded_search}},\n",
    "                            }\n",
    "                        }\n",
    "                    }\n",
    "    results = index.search(index='pandemic_docs', body=search_query, size=50) \n",
    "    results = results['hits']['hits']\n",
    "    return results \n",
    "\n",
    "\n",
    "def return_results(results):\n",
    "    text = [x['_source']['text'] for x in results]\n",
    "    article_title = [x['_source']['article_title'] for x in results]\n",
    "    section_title = [x['_source']['section_title'] for x in results]\n",
    "    return text, article_title, section_title\n",
    "\n",
    "\n",
    "def search_similarity(questions, index, model):\n",
    "    search_output = []\n",
    "    for question in questions:\n",
    "        q_result ={'question': question, 'results': []} \n",
    "        result = search(index, question)\n",
    "        text, article_title, section_title = return_results(result)\n",
    "\n",
    "        query_embeddings = model.encode(question).reshape(1, -1)\n",
    "        text_embeddings = model.encode(text, show_progress_bar=True, convert_to_numpy=True)\n",
    "        search_res = util.semantic_search(query_embeddings, text_embeddings, top_k=10)[0]\n",
    "        \n",
    "        result_output = []\n",
    "        for val in search_res:\n",
    "            output = {}\n",
    "            output['title'] = article_title[val['corpus_id']]\n",
    "            output['section_title'] = section_title[val['corpus_id']]\n",
    "            output['BERT_score'] = val['score']\n",
    "            result_output.append(output)\n",
    "            ranked_result = [x for x in sorted(result_output, key=lambda x:x['BERT_score'], reverse=True)]\n",
    "        \n",
    "        q_result['results'] = ranked_result\n",
    "        search_output.append(q_result)\n",
    "    return search_output\n",
    "\n",
    "\n",
    "if __name__ == '__main__':\n",
    "    excluded_search = ['Data and graphs', 'External links', 'Further reading', 'Medical journals', 'See also']\n",
    "    qs = load_questions('../data_hub/questions.json')\n",
    "    output = search_similarity(qs, es, model)\n",
    "    pprint(output)"
   ]
  },
  {
   "cell_type": "code",
   "execution_count": null,
   "metadata": {},
   "outputs": [],
   "source": []
  }
 ],
 "metadata": {
  "interpreter": {
   "hash": "92b3875b50552a19f5c8b904a9bd9455a012f7f4a6644b61f5845177f2c2dbee"
  },
  "kernelspec": {
   "display_name": "Python 3.8.10 ('semantic_searchenv': venv)",
   "language": "python",
   "name": "python3"
  },
  "language_info": {
   "codemirror_mode": {
    "name": "ipython",
    "version": 3
   },
   "file_extension": ".py",
   "mimetype": "text/x-python",
   "name": "python",
   "nbconvert_exporter": "python",
   "pygments_lexer": "ipython3",
   "version": "3.8.10"
  },
  "orig_nbformat": 4
 },
 "nbformat": 4,
 "nbformat_minor": 2
}
