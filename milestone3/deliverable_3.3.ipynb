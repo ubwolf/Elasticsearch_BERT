{
 "cells": [
  {
   "cell_type": "code",
   "execution_count": 1,
   "metadata": {},
   "outputs": [],
   "source": [
    "import elasticsearch \n",
    "import json\n",
    "import torch\n",
    "\n",
    "from sentence_transformers import SentenceTransformer, util\n",
    "from pprint import pprint"
   ]
  },
  {
   "cell_type": "code",
   "execution_count": 2,
   "metadata": {},
   "outputs": [],
   "source": [
    "# Initiate Elasticsearch\n",
    "es = elasticsearch.Elasticsearch('http://127.0.0.1:9200/')\n",
    "\n",
    "# Initiate Transformer\n",
    "model = SentenceTransformer('roberta-large-nli-stsb-mean-tokens')\n",
    "device = 'cuda' if torch.cuda.is_available() else 'cpu'\n",
    "model = model.to(device)"
   ]
  },
  {
   "cell_type": "code",
   "execution_count": 3,
   "metadata": {},
   "outputs": [
    {
     "name": "stderr",
     "output_type": "stream",
     "text": [
      "/tmp/ipykernel_11491/1546388995.py:15: DeprecationWarning: The 'body' parameter is deprecated and will be removed in a future version. Instead use individual parameters.\n",
      "  results = index.search(index='pandemic_docs', body=search_query, size=50)\n"
     ]
    },
    {
     "data": {
      "application/vnd.jupyter.widget-view+json": {
       "model_id": "08b2aa0cdef7413795846ca1aaac48ec",
       "version_major": 2,
       "version_minor": 0
      },
      "text/plain": [
       "Batches:   0%|          | 0/2 [00:00<?, ?it/s]"
      ]
     },
     "metadata": {},
     "output_type": "display_data"
    },
    {
     "data": {
      "application/vnd.jupyter.widget-view+json": {
       "model_id": "829d80e2ab81442d98ece7161952e40e",
       "version_major": 2,
       "version_minor": 0
      },
      "text/plain": [
       "Batches:   0%|          | 0/2 [00:00<?, ?it/s]"
      ]
     },
     "metadata": {},
     "output_type": "display_data"
    },
    {
     "data": {
      "application/vnd.jupyter.widget-view+json": {
       "model_id": "aa804fe7ada0470a8d2ff48b43bcf7c3",
       "version_major": 2,
       "version_minor": 0
      },
      "text/plain": [
       "Batches:   0%|          | 0/2 [00:00<?, ?it/s]"
      ]
     },
     "metadata": {},
     "output_type": "display_data"
    },
    {
     "data": {
      "application/vnd.jupyter.widget-view+json": {
       "model_id": "d582ad5c38834dc1bafc214d4b9a7ea2",
       "version_major": 2,
       "version_minor": 0
      },
      "text/plain": [
       "Batches:   0%|          | 0/2 [00:00<?, ?it/s]"
      ]
     },
     "metadata": {},
     "output_type": "display_data"
    },
    {
     "data": {
      "application/vnd.jupyter.widget-view+json": {
       "model_id": "e91012b8cfe240f092f3b03421539a25",
       "version_major": 2,
       "version_minor": 0
      },
      "text/plain": [
       "Batches:   0%|          | 0/2 [00:00<?, ?it/s]"
      ]
     },
     "metadata": {},
     "output_type": "display_data"
    },
    {
     "data": {
      "application/vnd.jupyter.widget-view+json": {
       "model_id": "e075e75c45c644e2ac104c8b3237b2bd",
       "version_major": 2,
       "version_minor": 0
      },
      "text/plain": [
       "Batches:   0%|          | 0/2 [00:00<?, ?it/s]"
      ]
     },
     "metadata": {},
     "output_type": "display_data"
    },
    {
     "data": {
      "application/vnd.jupyter.widget-view+json": {
       "model_id": "9e31a240c8d04697b26e4df3c4ffcd95",
       "version_major": 2,
       "version_minor": 0
      },
      "text/plain": [
       "Batches:   0%|          | 0/2 [00:00<?, ?it/s]"
      ]
     },
     "metadata": {},
     "output_type": "display_data"
    },
    {
     "data": {
      "application/vnd.jupyter.widget-view+json": {
       "model_id": "b2d1ac04c30f4c5688ded9c84186c64e",
       "version_major": 2,
       "version_minor": 0
      },
      "text/plain": [
       "Batches:   0%|          | 0/2 [00:00<?, ?it/s]"
      ]
     },
     "metadata": {},
     "output_type": "display_data"
    },
    {
     "data": {
      "application/vnd.jupyter.widget-view+json": {
       "model_id": "0201189c1ffd4a4f86d8cc058f71d3b4",
       "version_major": 2,
       "version_minor": 0
      },
      "text/plain": [
       "Batches:   0%|          | 0/2 [00:00<?, ?it/s]"
      ]
     },
     "metadata": {},
     "output_type": "display_data"
    },
    {
     "data": {
      "application/vnd.jupyter.widget-view+json": {
       "model_id": "12f15b824cfe4e29b7c1658de4f65afe",
       "version_major": 2,
       "version_minor": 0
      },
      "text/plain": [
       "Batches:   0%|          | 0/2 [00:00<?, ?it/s]"
      ]
     },
     "metadata": {},
     "output_type": "display_data"
    },
    {
     "name": "stdout",
     "output_type": "stream",
     "text": [
      "[{'question': 'How many people have died during Black Death?',\n",
      "  'results': [{'score': 8.295511,\n",
      "               'section_title': 'Deaths',\n",
      "               'title': 'COVID-19 pandemic'},\n",
      "              {'score': 6.7890177,\n",
      "               'section_title': 'Prognosis',\n",
      "               'title': 'Cholera'},\n",
      "              {'score': 6.6869187,\n",
      "               'section_title': 'Epidemiology',\n",
      "               'title': 'Cholera'},\n",
      "              {'score': 6.2728453,\n",
      "               'section_title': 'Ebola',\n",
      "               'title': 'Science diplomacy and pandemics'},\n",
      "              {'score': 6.0281324,\n",
      "               'section_title': 'Tuberculosis',\n",
      "               'title': 'Pandemic'},\n",
      "              {'score': 5.914283,\n",
      "               'section_title': 'Problems with the bills',\n",
      "               'title': 'Bills of mortality'},\n",
      "              {'score': 5.600337,\n",
      "               'section_title': 'February 1930',\n",
      "               'title': '1929–1930 psittacosis pandemic'},\n",
      "              {'score': 5.5176015,\n",
      "               'section_title': 'Epidemiology',\n",
      "               'title': 'HIV/AIDS'},\n",
      "              {'score': 5.494405,\n",
      "               'section_title': 'Prognosis',\n",
      "               'title': 'HIV/AIDS'},\n",
      "              {'score': 4.890838,\n",
      "               'section_title': 'Economic impact',\n",
      "               'title': 'HIV/AIDS'}]},\n",
      " {'question': 'Which diseases can be transmitted by animals?',\n",
      "  'results': [{'score': 9.768429,\n",
      "               'section_title': 'Humans',\n",
      "               'title': 'Swine influenza'},\n",
      "              {'score': 8.004496,\n",
      "               'section_title': 'Surveillance and mapping',\n",
      "               'title': 'Pandemic prevention'},\n",
      "              {'score': 7.263281,\n",
      "               'section_title': 'Stages',\n",
      "               'title': 'Pandemic'},\n",
      "              {'score': 7.17169,\n",
      "               'section_title': 'Between pigs',\n",
      "               'title': 'Swine influenza'},\n",
      "              {'score': 6.85583,\n",
      "               'section_title': 'Animal viruses',\n",
      "               'title': 'Virus'},\n",
      "              {'score': 6.8291483,\n",
      "               'section_title': 'Vaccines',\n",
      "               'title': 'Virus'},\n",
      "              {'score': 6.7203746,\n",
      "               'section_title': 'To humans',\n",
      "               'title': 'Swine influenza'},\n",
      "              {'score': 6.5839844,\n",
      "               'section_title': 'Influenza',\n",
      "               'title': 'Pandemic'},\n",
      "              {'score': 5.1338453,\n",
      "               'section_title': 'Zoonotic viruses',\n",
      "               'title': 'Disease X'},\n",
      "              {'score': 4.8668833,\n",
      "               'section_title': 'Cancer',\n",
      "               'title': 'Virus'}]},\n",
      " {'question': 'Connection between climate change and a likelihood of a '\n",
      "              'pandemic',\n",
      "  'results': [{'score': 14.44749,\n",
      "               'section_title': 'Environmental policy and economics',\n",
      "               'title': 'Pandemic prevention'},\n",
      "              {'score': 7.0194645,\n",
      "               'section_title': 'Guidelines',\n",
      "               'title': 'Pandemic severity index'},\n",
      "              {'score': 6.45112,\n",
      "               'section_title': 'Role in human disease',\n",
      "               'title': 'Virus'},\n",
      "              {'score': 4.2640586,\n",
      "               'section_title': 'Viral hemorrhagic fevers',\n",
      "               'title': 'Pandemic'},\n",
      "              {'score': 4.164216,\n",
      "               'section_title': 'Infrastructure and international development',\n",
      "               'title': 'Pandemic prevention'},\n",
      "              {'score': 4.0998726,\n",
      "               'section_title': 'Agriculture and food systems',\n",
      "               'title': 'COVID-19 pandemic'},\n",
      "              {'score': 4.014713,\n",
      "               'section_title': 'Coronaviruses',\n",
      "               'title': 'Pandemic'},\n",
      "              {'score': 3.7396414,\n",
      "               'section_title': 'Pathophysiology',\n",
      "               'title': 'HIV/AIDS'},\n",
      "              {'score': 3.6564465,\n",
      "               'section_title': 'Notable outbreaks',\n",
      "               'title': 'Pandemic'},\n",
      "              {'score': 3.4900653,\n",
      "               'section_title': 'Sari filtration',\n",
      "               'title': 'Cholera'}]},\n",
      " {'question': 'What is an example of a latent virus',\n",
      "  'results': [{'score': 12.06305,\n",
      "               'section_title': 'With varying latent periods',\n",
      "               'title': 'Basic reproduction number'},\n",
      "              {'score': 11.503816,\n",
      "               'section_title': 'Latent infectious period, isolation after '\n",
      "                                'diagnosis',\n",
      "               'title': 'Basic reproduction number'},\n",
      "              {'score': 9.967882,\n",
      "               'section_title': 'Dormant and latent infections',\n",
      "               'title': 'Virus'},\n",
      "              {'score': 9.793149,\n",
      "               'section_title': 'Role in human disease',\n",
      "               'title': 'Virus'},\n",
      "              {'score': 7.546276,\n",
      "               'section_title': 'Summary',\n",
      "               'title': 'Viral load'},\n",
      "              {'score': 6.999906,\n",
      "               'section_title': 'Virology',\n",
      "               'title': 'HIV/AIDS'},\n",
      "              {'score': 6.5741405,\n",
      "               'section_title': 'Surveillance',\n",
      "               'title': 'Swine influenza'},\n",
      "              {'score': 5.969691, 'section_title': 'Summary', 'title': 'Virus'},\n",
      "              {'score': 4.6603513,\n",
      "               'section_title': 'History',\n",
      "               'title': 'Virus'},\n",
      "              {'score': 4.577744,\n",
      "               'section_title': 'Cancer',\n",
      "               'title': 'Virus'}]},\n",
      " {'question': 'Viruses in nanotechnology',\n",
      "  'results': [{'score': 10.390243,\n",
      "               'section_title': 'Materials science and nanotechnology',\n",
      "               'title': 'Virus'},\n",
      "              {'score': 3.4180124,\n",
      "               'section_title': 'Genome replication',\n",
      "               'title': 'Virus'},\n",
      "              {'score': 3.3082674,\n",
      "               'section_title': 'Genetic mutation',\n",
      "               'title': 'Virus'},\n",
      "              {'score': 3.2915123,\n",
      "               'section_title': 'Virotherapy',\n",
      "               'title': 'Virus'},\n",
      "              {'score': 3.2856114,\n",
      "               'section_title': 'Infection in other species',\n",
      "               'title': 'Virus'},\n",
      "              {'score': 3.2594676,\n",
      "               'section_title': 'Role in human disease',\n",
      "               'title': 'Virus'},\n",
      "              {'score': 3.2235124,\n",
      "               'section_title': 'Life sciences and medicine',\n",
      "               'title': 'Virus'},\n",
      "              {'score': 3.1943455, 'section_title': 'Cancer', 'title': 'Virus'},\n",
      "              {'score': 2.76307,\n",
      "               'section_title': 'Cytopathic effects on the host cell',\n",
      "               'title': 'Virus'},\n",
      "              {'score': 2.559202,\n",
      "               'section_title': 'Prevention and treatment',\n",
      "               'title': 'Virus'}]},\n",
      " {'question': 'Giant viruses classification',\n",
      "  'results': [{'score': 11.242406,\n",
      "               'section_title': 'Giant viruses',\n",
      "               'title': 'Virus'},\n",
      "              {'score': 8.826887,\n",
      "               'section_title': 'ICTV classification',\n",
      "               'title': 'Virus'},\n",
      "              {'score': 3.226287,\n",
      "               'section_title': 'Archaeal viruses',\n",
      "               'title': 'Virus'},\n",
      "              {'score': 3.170908,\n",
      "               'section_title': 'Genome replication',\n",
      "               'title': 'Virus'},\n",
      "              {'score': 2.99764,\n",
      "               'section_title': 'Role in evolution',\n",
      "               'title': 'Virus'},\n",
      "              {'score': 2.996851,\n",
      "               'section_title': 'Materials science and nanotechnology',\n",
      "               'title': 'Virus'},\n",
      "              {'score': 2.9536016, 'section_title': 'Genome', 'title': 'Virus'},\n",
      "              {'score': 2.9415646,\n",
      "               'section_title': 'Life sciences and medicine',\n",
      "               'title': 'Virus'},\n",
      "              {'score': 2.9415646, 'section_title': 'Cancer', 'title': 'Virus'},\n",
      "              {'score': 2.8728156,\n",
      "               'section_title': 'Bacterial viruses',\n",
      "               'title': 'Virus'}]},\n",
      " {'question': 'What are the notable pandemic prevention organizations?',\n",
      "  'results': [{'score': 9.409732,\n",
      "               'section_title': 'Context',\n",
      "               'title': 'Pandemic severity index'},\n",
      "              {'score': 8.8801775,\n",
      "               'section_title': 'Key findings',\n",
      "               'title': 'Crimson Contagion'},\n",
      "              {'score': 5.50238,\n",
      "               'section_title': 'Prevention versus mitigation',\n",
      "               'title': 'Pandemic prevention'},\n",
      "              {'score': 4.6660748,\n",
      "               'section_title': 'Summary',\n",
      "               'title': 'Pandemic prevention'},\n",
      "              {'score': 4.6296487,\n",
      "               'section_title': 'Vaccination',\n",
      "               'title': 'Pandemic prevention'},\n",
      "              {'score': 4.5918045,\n",
      "               'section_title': 'Guidelines',\n",
      "               'title': 'Pandemic severity index'},\n",
      "              {'score': 4.476373,\n",
      "               'section_title': 'Testing and containment',\n",
      "               'title': 'Pandemic prevention'},\n",
      "              {'score': 4.0950537,\n",
      "               'section_title': 'Vaccination',\n",
      "               'title': 'Swine influenza'},\n",
      "              {'score': 3.9034648,\n",
      "               'section_title': 'See also',\n",
      "               'title': 'Pandemic prevention'},\n",
      "              {'score': 3.7388256,\n",
      "               'section_title': 'Infrastructure and international development',\n",
      "               'title': 'Pandemic prevention'}]},\n",
      " {'question': 'How many leprosy outbreaks are known to happen?',\n",
      "  'results': [{'score': 16.300354,\n",
      "               'section_title': 'Leprosy',\n",
      "               'title': 'Pandemic'},\n",
      "              {'score': 13.028619,\n",
      "               'section_title': 'Epidemiology',\n",
      "               'title': 'Cholera'},\n",
      "              {'score': 5.4600573,\n",
      "               'section_title': 'Malaria',\n",
      "               'title': 'Pandemic'},\n",
      "              {'score': 5.1307526,\n",
      "               'section_title': 'Virology',\n",
      "               'title': 'HIV/AIDS'},\n",
      "              {'score': 4.8174157,\n",
      "               'section_title': 'Clinical latency',\n",
      "               'title': 'HIV/AIDS'},\n",
      "              {'score': 4.7602854,\n",
      "               'section_title': 'Measles',\n",
      "               'title': 'Pandemic'},\n",
      "              {'score': 4.39145,\n",
      "               'section_title': 'Structure',\n",
      "               'title': 'Virus'},\n",
      "              {'score': 4.193647,\n",
      "               'section_title': 'Summary',\n",
      "               'title': 'HIV/AIDS'},\n",
      "              {'score': 3.7943952,\n",
      "               'section_title': 'Antibiotic resistance',\n",
      "               'title': 'Cholera'},\n",
      "              {'score': 3.7531576,\n",
      "               'section_title': 'Surveillance and mapping',\n",
      "               'title': 'Pandemic prevention'}]},\n",
      " {'question': 'What are the geographic areas with the highest transmission of '\n",
      "              'malaria?',\n",
      "  'results': [{'score': 10.310817,\n",
      "               'section_title': 'Malaria',\n",
      "               'title': 'Pandemic'},\n",
      "              {'score': 7.944397,\n",
      "               'section_title': 'Surveillance',\n",
      "               'title': 'Swine influenza'},\n",
      "              {'score': 6.7181187,\n",
      "               'section_title': 'Global HIV data',\n",
      "               'title': 'Epidemiology of HIV/AIDS'},\n",
      "              {'score': 6.4548388,\n",
      "               'section_title': 'Epidemiology',\n",
      "               'title': 'Cholera'},\n",
      "              {'score': 5.7171025,\n",
      "               'section_title': 'Antibiotic resistance',\n",
      "               'title': 'Pandemic'},\n",
      "              {'score': 5.6657286,\n",
      "               'section_title': 'Sub-Saharan Africa',\n",
      "               'title': 'Epidemiology of HIV/AIDS'},\n",
      "              {'score': 4.906436,\n",
      "               'section_title': 'Acquired immunodeficiency syndrome',\n",
      "               'title': 'HIV/AIDS'},\n",
      "              {'score': 4.8684535,\n",
      "               'section_title': 'Diagnosis',\n",
      "               'title': 'HIV/AIDS'},\n",
      "              {'score': 4.8366957,\n",
      "               'section_title': 'By region',\n",
      "               'title': 'Epidemiology of HIV/AIDS'},\n",
      "              {'score': 4.8187175,\n",
      "               'section_title': 'East Asia',\n",
      "               'title': 'Epidemiology of HIV/AIDS'}]},\n",
      " {'question': 'How to prevent the spread of viral infections?',\n",
      "  'results': [{'score': 8.064765,\n",
      "               'section_title': 'Viral hemorrhagic fevers',\n",
      "               'title': 'Pandemic'},\n",
      "              {'score': 7.4841113,\n",
      "               'section_title': 'Pathogen detection and prediction',\n",
      "               'title': 'Pandemic prevention'},\n",
      "              {'score': 6.8485913,\n",
      "               'section_title': 'Opportunistic infections',\n",
      "               'title': 'HIV/AIDS'},\n",
      "              {'score': 6.3364534,\n",
      "               'section_title': 'Swine',\n",
      "               'title': 'Swine influenza'},\n",
      "              {'score': 6.1218576,\n",
      "               'section_title': 'Prevention',\n",
      "               'title': 'Swine influenza'},\n",
      "              {'score': 5.7339683,\n",
      "               'section_title': 'Prevention versus mitigation',\n",
      "               'title': 'Pandemic prevention'},\n",
      "              {'score': 5.2313247,\n",
      "               'section_title': 'Rationale',\n",
      "               'title': 'Disease X'},\n",
      "              {'score': 4.838005,\n",
      "               'section_title': 'Humans',\n",
      "               'title': 'Swine influenza'},\n",
      "              {'score': 4.778042,\n",
      "               'section_title': 'Host defence mechanisms',\n",
      "               'title': 'Virus'},\n",
      "              {'score': 4.515681,\n",
      "               'section_title': 'Face masks and respiratory hygiene',\n",
      "               'title': 'COVID-19 pandemic'}]}]\n"
     ]
    }
   ],
   "source": [
    "def load_questions(data_loc):\n",
    "    with open(data_loc) as f:\n",
    "        qs = json.load(f)\n",
    "    return qs\n",
    "\n",
    "\n",
    "def search(index, query):\n",
    "    search_query = {\"query\": {\n",
    "                       \"bool\": {\n",
    "                           \"should\": { \"match\": {\"text\": query}},\n",
    "                           \"must_not\": {\"term\" : { \"section_title.keyword\" : 'External links'}},\n",
    "                            }\n",
    "                        }\n",
    "                    }\n",
    "    results = index.search(index='pandemic_docs', body=search_query, size=50) \n",
    "    results = results['hits']['hits']\n",
    "    return results \n",
    "\n",
    "\n",
    "def return_results(results):\n",
    "    text = [x['_source']['text'] for x in results]\n",
    "    article_title = [x['_source']['article_title'] for x in results]\n",
    "    section_title = [x['_source']['section_title'] for x in results]\n",
    "    score = [x['_score'] for x in results]\n",
    "    return text, article_title, section_title, score\n",
    "\n",
    "\n",
    "def search_similarity(questions, index, model):\n",
    "    search_output = []\n",
    "    for question in questions:\n",
    "        q_result ={'question': question, 'results': []} \n",
    "        result = search(index, question)\n",
    "        text, article_title, section_title, score = return_results(result)\n",
    "\n",
    "        query_embeddings = model.encode(question).reshape(1, -1)\n",
    "        text_embeddings = model.encode(text, show_progress_bar=True, convert_to_numpy=True)\n",
    "        search_res = util.semantic_search(query_embeddings, text_embeddings, top_k=10)[0]\n",
    "        \n",
    "        result_output = []\n",
    "        for val in search_res:\n",
    "            output = {}\n",
    "            output['title'] = article_title[val['corpus_id']]\n",
    "            output['section_title'] = section_title[val['corpus_id']]\n",
    "            output['score'] = score[val['corpus_id']]\n",
    "            result_output.append(output)\n",
    "            ranked_result = [x for x in sorted(result_output, key=lambda x:x['score'], reverse=True)]\n",
    "        \n",
    "        q_result['results'] = ranked_result\n",
    "        search_output.append(q_result)\n",
    "    return search_output\n",
    "\n",
    "\n",
    "if __name__ == '__main__':\n",
    "    qs = load_questions('../data_hub/questions.json')\n",
    "    output = search_similarity(qs, es, model)\n",
    "    pprint(output)"
   ]
  }
 ],
 "metadata": {
  "interpreter": {
   "hash": "92b3875b50552a19f5c8b904a9bd9455a012f7f4a6644b61f5845177f2c2dbee"
  },
  "kernelspec": {
   "display_name": "Python 3.8.10 ('semantic_searchenv': venv)",
   "language": "python",
   "name": "python3"
  },
  "language_info": {
   "codemirror_mode": {
    "name": "ipython",
    "version": 3
   },
   "file_extension": ".py",
   "mimetype": "text/x-python",
   "name": "python",
   "nbconvert_exporter": "python",
   "pygments_lexer": "ipython3",
   "version": "3.8.10"
  },
  "orig_nbformat": 4
 },
 "nbformat": 4,
 "nbformat_minor": 2
}
