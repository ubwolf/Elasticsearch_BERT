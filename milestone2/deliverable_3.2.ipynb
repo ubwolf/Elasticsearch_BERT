{
 "cells": [
  {
   "cell_type": "code",
   "execution_count": 1,
   "metadata": {},
   "outputs": [
    {
     "name": "stdout",
     "output_type": "stream",
     "text": [
      "{\n",
      "  \"name\" : \"node-1\",\n",
      "  \"cluster_name\" : \"elasticsearch\",\n",
      "  \"cluster_uuid\" : \"Hd5owN6ERfSiT3DlTZTENg\",\n",
      "  \"version\" : {\n",
      "    \"number\" : \"8.2.2\",\n",
      "    \"build_flavor\" : \"default\",\n",
      "    \"build_type\" : \"deb\",\n",
      "    \"build_hash\" : \"9876968ef3c745186b94fdabd4483e01499224ef\",\n",
      "    \"build_date\" : \"2022-05-25T15:47:06.259735307Z\",\n",
      "    \"build_snapshot\" : false,\n",
      "    \"lucene_version\" : \"9.1.0\",\n",
      "    \"minimum_wire_compatibility_version\" : \"7.17.0\",\n",
      "    \"minimum_index_compatibility_version\" : \"7.0.0\"\n",
      "  },\n",
      "  \"tagline\" : \"You Know, for Search\"\n",
      "}\n"
     ]
    }
   ],
   "source": [
    "!curl http://localhost:9200/"
   ]
  },
  {
   "cell_type": "code",
   "execution_count": 2,
   "metadata": {},
   "outputs": [],
   "source": [
    "import elasticsearch "
   ]
  },
  {
   "cell_type": "code",
   "execution_count": 3,
   "metadata": {},
   "outputs": [],
   "source": [
    "es = elasticsearch.Elasticsearch('http://127.0.0.1:9200/')"
   ]
  },
  {
   "cell_type": "markdown",
   "metadata": {},
   "source": [
    "### 1. Match query "
   ]
  },
  {
   "cell_type": "code",
   "execution_count": 4,
   "metadata": {},
   "outputs": [
    {
     "data": {
      "text/plain": [
       "{'total': {'value': 11, 'relation': 'eq'},\n",
       " 'max_score': 6.931862,\n",
       " 'hits': [{'_index': 'pandemic_docs',\n",
       "   '_id': '5okCVIEB5DPWiFiNugmg',\n",
       "   '_score': 6.931862,\n",
       "   '_ignored': ['text.keyword'],\n",
       "   '_source': {'article_title': 'Science diplomacy and pandemics',\n",
       "    'section_title': 'Ebola',\n",
       "    'main_section': 'Ebola',\n",
       "    'section_number': 2,\n",
       "    'page_id': 63936969,\n",
       "    'text': \"Science diplomacy and pandemics,Ebola\\nThe Western African Ebola virus epidemic took more than 11,000 lives. Science diplomats traveled the world and worked with scientists from other countries in the hope of finding a vaccine to conquer the Ebola outbreak. The Ebola virus causes severe bleeding causing organ failure, lack of oxygen to the body, and it can lead to death. Scientists first discovered the Ebola virus in 1976 in Democratic Republic of Congo. Since then it has spread to other countries. It affected mostly West African countries. The largest outbreak of the Ebola virus from 2014 to 2016. There were over 28,000 cases. The virus had spread to Guinea, Liberia, Guinea, Ivory Coast, Gabon, Sierra Leone, Mali, Nigeria, Italy, the United States, and more. The virus spread to more than 17 countries. UNESCO played a huge role in preventing the spread of Ebola to neighboring cities and countries of West Africa. They funded $20,000 to a radio station in Sierra Leone to keep the people informed about the virus and the precautions that they could take in order to avoid it. Ebola did not spread to Koinadugu, Sierra Leone even though it borders the Republic of Guinea. which had 3814 cases and 2844 deathsMoreover, the United Nations and International Non-Governmental Organizations have supported the public health response to bring an end to the Ebola epidemic in the Democratic Republic of Congo (DRC). They have made huge efforts to track the Ebola virus, to find out where it moves next in order to prevent transmission of the virus. The first Ebola outbreak was discovered in the DRC in a village near the Ebola River, which gave the virus its name. The 1976 Ebola outbreak was much more contained than the 2014–2016 outbreak. The 1976 Ebola outbreak lasted about 11 weeks. There were 318 cases and 280 deaths. The death rate was around 88 percent. In contrast, the Western African Ebola virus epidemic lasted more than two years, had nearly 29,000 cases and 11,310 deaths. The death rate of the Western African Ebola virus epidemic was around 50 percent.During the Western African Ebola virus epidemic, science diplomats and other medical professionals traveled around the world to help track the outbreak. They tried to reduce the number of cases and deaths of the Ebola virus by studying the disease and testing possible vaccines or treatments to contain it. Even though it looked like they were not progressing, Scientists made huge efforts to minimize the Ebola virus. They tested many vaccines and treatments. Canadian scientists had been working on the Ebola vaccine research decades before the 2014–2016 outbreak. But, they were not making huge progress because they did not have enough funding. In 2010, Lead scientists left to do other research. But, one dedicated manager kept the research going. It wasn't until the 2014–2016 outbreak that they received more funding. In August 2014, Canada donated 3.6 million dollars to the WHO and MSF. Scientists received more than 120 million dollars from the Canadian government, the US government, and the WHO to support clinical trials during the epidemic. Canada developed the first vaccine approved by the world. Millions of dollars were spent to create the vaccine and it was developed by Merck. But it would not have happened without scientists from three different continents in multiple countries. The vaccine ERVEBO is used to protect against the Ebola virus. It was approved by the Food and Drug Administration in December 2019. Although there are no antiviral drugs approved by the FDA to treat people who currently have Ebola, there are alternative treatments such as: IV fluids, oxygen support, blood transfusions, and the vaccine ERVEBO, among others.\",\n",
       "    'source_url': 'https://en.wikipedia.org/wiki/Science_diplomacy_and_pandemics',\n",
       "    'tags': 'Science diplomacy and pandemics,Ebola'}},\n",
       "  {'_index': 'pandemic_docs',\n",
       "   '_id': '6YkCVIEB5DPWiFiNugmg',\n",
       "   '_score': 6.2942963,\n",
       "   '_ignored': ['text.keyword'],\n",
       "   '_source': {'article_title': 'Science diplomacy and pandemics',\n",
       "    'section_title': 'See also',\n",
       "    'main_section': 'See also',\n",
       "    'section_number': 5,\n",
       "    'page_id': 63936969,\n",
       "    'text': \"Science diplomacy and pandemics,See also\\n2002-2004 SARS outbreak\\n2015-2016 Zika virus epidemic\\nCOVID-19 pandemic\\nCOVID-19 vaccine\\nEbola vaccine\\nList of Ebola outbreaks\\nSARS\\nWorld Health Organization's response to the COVID-19 pandemic\\nZika virus vaccine\\nZika virus outbreak timeline\\n\\n\\n== References ==\",\n",
       "    'source_url': 'https://en.wikipedia.org/wiki/Science_diplomacy_and_pandemics',\n",
       "    'tags': 'Science diplomacy and pandemics,See also'}},\n",
       "  {'_index': 'pandemic_docs',\n",
       "   '_id': '7okCVIEB5DPWiFiNugmg',\n",
       "   '_score': 5.039447,\n",
       "   '_ignored': ['text.keyword'],\n",
       "   '_source': {'article_title': 'Superspreading event',\n",
       "    'section_title': 'Individual reproductive number',\n",
       "    'main_section': 'Factors in transmission',\n",
       "    'section_number': 4,\n",
       "    'page_id': 39958236,\n",
       "    'text': 'Superspreading event,Factors in transmission,Individual reproductive number\\nThe individual reproductive number represents the number of secondary infections caused by a specific individual during the time that individual is infectious. Some individuals have significantly higher than average individual reproductive numbers and are known as superspreaders. Through contact tracing, epidemiologists have identified superspreaders in measles, tuberculosis, rubella, monkeypox, smallpox, Ebola hemorrhagic fever and SARS.',\n",
       "    'source_url': 'https://en.wikipedia.org/wiki/Superspreading_event',\n",
       "    'tags': 'Superspreading event,Factors in transmission,Individual reproductive number'}},\n",
       "  {'_index': 'pandemic_docs',\n",
       "   '_id': 'yYkCVIEB5DPWiFiNugmg',\n",
       "   '_score': 4.5926633,\n",
       "   '_ignored': ['text.keyword'],\n",
       "   '_source': {'article_title': 'Plague of Cyprian',\n",
       "    'section_title': 'Summary',\n",
       "    'main_section': 'Summary',\n",
       "    'section_number': 0,\n",
       "    'page_id': 16856479,\n",
       "    'text': 'Plague of Cyprian,Summary\\nThe Plague of Cyprian was a pandemic that afflicted the Roman Empire about from AD 249 to 262. The plague is thought to have caused widespread manpower shortages for food production and the Roman army, severely weakening the empire during the Crisis of the Third Century. Its modern name commemorates St. Cyprian, bishop of Carthage, an early Christian writer who witnessed and described the plague. The agent of the plague is highly speculative because of sparse sourcing, but suspects have included smallpox, pandemic influenza and viral hemorrhagic fever (filoviruses) like the Ebola virus.',\n",
       "    'source_url': 'https://en.wikipedia.org/wiki/Plague_of_Cyprian',\n",
       "    'tags': 'Plague of Cyprian,Summary'}},\n",
       "  {'_index': 'pandemic_docs',\n",
       "   '_id': 'y4kCVIEB5DPWiFiNugmg',\n",
       "   '_score': 4.2571707,\n",
       "   '_ignored': ['text.keyword'],\n",
       "   '_source': {'article_title': 'Plague of Cyprian',\n",
       "    'section_title': 'Epidemiology',\n",
       "    'main_section': 'Epidemiology',\n",
       "    'section_number': 2,\n",
       "    'page_id': 16856479,\n",
       "    'text': \"Plague of Cyprian,Epidemiology\\nThe severe devastation to the European population from the two plagues may indicate that the people had no previous exposure or immunity to the plague's cause. The historian William Hardy McNeill asserts that both the earlier Antonine Plague (166–180) and the Plague of Cyprian (251–270) were the first transfers from animal hosts to humanity of two different diseases, one of smallpox and one of measles, but not necessarily in that order. D. Ch. Stathakopoulos asserts that both outbreaks were of smallpox.According to the historian Kyle Harper, the symptoms attributed by ancient sources to the Plague of Cyprian better match a viral disease causing a hemorrhagic fever, such as ebola, rather than smallpox. (Conversely, Harper believes that the Antonine Plague was caused by smallpox.)\",\n",
       "    'source_url': 'https://en.wikipedia.org/wiki/Plague_of_Cyprian',\n",
       "    'tags': 'Plague of Cyprian,Epidemiology'}}]}"
      ]
     },
     "execution_count": 4,
     "metadata": {},
     "output_type": "execute_result"
    }
   ],
   "source": [
    "# Search documents in Elasticsearch\n",
    "query={'match':{\n",
    "          'text':'ebola'}\n",
    "        }\n",
    "\n",
    "hits = es.search(index='pandemic_docs', query=query, size=5) \n",
    "hits['hits']"
   ]
  },
  {
   "cell_type": "markdown",
   "metadata": {},
   "source": [
    "## 2. Term Query"
   ]
  },
  {
   "cell_type": "code",
   "execution_count": 5,
   "metadata": {},
   "outputs": [
    {
     "data": {
      "text/plain": [
       "{'total': {'value': 10, 'relation': 'eq'},\n",
       " 'max_score': 5.759901,\n",
       " 'hits': [{'_index': 'pandemic_docs',\n",
       "   '_id': 'yIkCVIEB5DPWiFiNugmg',\n",
       "   '_score': 5.759901,\n",
       "   '_source': {'article_title': 'Pandemic severity index',\n",
       "    'section_title': 'See also',\n",
       "    'main_section': 'See also',\n",
       "    'section_number': 5,\n",
       "    'page_id': 9291245,\n",
       "    'text': 'Pandemic severity index,See also\\nPandemic Severity Assessment Framework\\n2009 H1N1 influenza pandemic\\nEarly Warning and Response System\\nWHO pandemic phases\\n\\n\\n== References ==',\n",
       "    'source_url': 'https://en.wikipedia.org/wiki/Pandemic_severity_index',\n",
       "    'tags': 'Pandemic severity index,See also'}},\n",
       "  {'_index': 'pandemic_docs',\n",
       "   '_id': 'GokCVIEB5DPWiFiNugmd',\n",
       "   '_score': 4.7102184,\n",
       "   '_ignored': ['text.keyword'],\n",
       "   '_source': {'article_title': 'Cholera',\n",
       "    'section_title': 'Surveillance',\n",
       "    'main_section': 'Prevention',\n",
       "    'section_number': 10,\n",
       "    'page_id': 7591,\n",
       "    'text': 'Cholera,Prevention,Cause,Surveillance\\nSurveillance and prompt reporting allow for containing cholera epidemics rapidly. Cholera exists as a seasonal disease in many endemic countries, occurring annually mostly during rainy seasons. Surveillance systems can provide early alerts to outbreaks, therefore leading to coordinated response and assist in preparation of preparedness plans. Efficient surveillance systems can also improve the risk assessment for potential cholera outbreaks. Understanding the seasonality and location of outbreaks provides guidance for improving cholera control activities for the most vulnerable. For prevention to be effective, it is important that cases be reported to national health authorities.',\n",
       "    'source_url': 'https://en.wikipedia.org/wiki/Cholera',\n",
       "    'tags': 'Cholera,Prevention,Cause,Surveillance'}},\n",
       "  {'_index': 'pandemic_docs',\n",
       "   '_id': 'w4kCVIEB5DPWiFiNugmg',\n",
       "   '_score': 4.7102184,\n",
       "   '_ignored': ['text.keyword'],\n",
       "   '_source': {'article_title': 'Pandemic severity index',\n",
       "    'section_title': 'Summary',\n",
       "    'main_section': 'Summary',\n",
       "    'section_number': 0,\n",
       "    'page_id': 9291245,\n",
       "    'text': 'Pandemic severity index,Summary\\nThe pandemic severity index (PSI) was a proposed classification scale for reporting the severity of influenza pandemics in the United States. The PSI was accompanied by a set of guidelines intended to help communicate appropriate actions for communities to follow in potential pandemic situations. Released by the United States Department of Health and Human Services (HHS) on February 1, 2007, the PSI was designed to resemble the Saffir-Simpson Hurricane Scale classification scheme. The index was replaced by the Pandemic Severity Assessment Framework in 2014, which uses quadrants based on transmissibility and clinical severity rather than a linear scale.',\n",
       "    'source_url': 'https://en.wikipedia.org/wiki/Pandemic_severity_index',\n",
       "    'tags': 'Pandemic severity index,Summary'}},\n",
       "  {'_index': 'pandemic_docs',\n",
       "   '_id': 'zIkCVIEB5DPWiFiNugid',\n",
       "   '_score': 4.6167145,\n",
       "   '_ignored': ['text.keyword'],\n",
       "   '_source': {'article_title': 'Pandemic',\n",
       "    'section_title': 'Severity',\n",
       "    'main_section': 'Assessment',\n",
       "    'section_number': 4,\n",
       "    'page_id': 24255,\n",
       "    'text': 'Pandemic,Assessment,Severity\\nIn 2014, the United States Centers for Disease Control and Prevention adopted the Pandemic Severity Assessment Framework (PSAF) to assess the severity of pandemics. The PSAF superseded the 2007 linear Pandemic Severity Index, which assumed 30% spread and measured case fatality rate (CFR) to assess the severity and evolution of the pandemic.Historically, measures of pandemic severity were based on the case fatality rate. However, the case fatality rate might not be an adequate measure of pandemic severity during a pandemic response because:\\nDeaths may lag several weeks behind cases, making the case fatality rate an underestimate\\nThe total number of cases may not be known, making the case fatality rate an overestimate\\nA single case fatality rate for the entire population may obscure the effect on vulnerable sub-populations, such as children, the elderly, those with chronic conditions, and members of certain racial and ethnic minorities\\nFatalities alone may not account for the full effects of the pandemic, such as absenteeism or demand on healthcare servicesTo account for the limitations of measuring the case fatality rate alone, the PSAF rates severity of a disease outbreak on two dimensions: clinical severity of illness in infected persons; and the transmissibility of the infection in the population. Each dimension can be measured using more than one metric, which are scaled to allow comparison of the different metrics. Clinical severity can instead be measured, for example, as the ratio of deaths to hospitalizations or using genetic markers of virulence. Transmissibility can be measured, for example, as the basic reproduction number R0 and serial interval or via underlying population immunity. The framework gives guidelines for scaling the various measures and examples of assessing past pandemics using the framework.',\n",
       "    'source_url': 'https://en.wikipedia.org/wiki/Pandemic',\n",
       "    'tags': 'Pandemic,Assessment,Severity'}},\n",
       "  {'_index': 'pandemic_docs',\n",
       "   '_id': 'x4kCVIEB5DPWiFiNugmg',\n",
       "   '_score': 3.749813,\n",
       "   '_ignored': ['text.keyword'],\n",
       "   '_source': {'article_title': 'Pandemic severity index',\n",
       "    'section_title': 'Response',\n",
       "    'main_section': 'Response',\n",
       "    'section_number': 4,\n",
       "    'page_id': 9291245,\n",
       "    'text': 'Pandemic severity index,Response\\nWhile unveiling the PSI, Dr. Martin Cetron, Director for the Division of Global Migration and Quarantine at the CDC, reported that early feedback to the idea of a pandemic classification scale has been \"uniformly positive\".The University of Minnesota\\'s Center for Infectious Disease Research and Policy (CIDRAP) reports that the PSI has been \"drawing generally high marks from public health officials and others, but they say the plan spells a massive workload for local planners\". One MD praised that the PSI were \"a big improvement over the previous guidance\"; while historical influenza expert and author John M. Barry was more critical of the PSI, saying not enough emphasis was placed on basic health principles that could have an impact at the community level, adding \"I\\'d feel a lot more comfortable with a lot more research [supporting them]\".During the initial press releases in 2007, the CDC acknowledge that the PSI and the accompanying  guidelines were a work in progress and will likely undergo revision in the months following their release.In 2014, after the 2009 swine flu pandemic, the PSI was replaced by the Pandemic Severity Assessment Framework, which uses quadrants based on transmissibility and clinical severity rather than a linear scale.',\n",
       "    'source_url': 'https://en.wikipedia.org/wiki/Pandemic_severity_index',\n",
       "    'tags': 'Pandemic severity index,Response'}}]}"
      ]
     },
     "execution_count": 5,
     "metadata": {},
     "output_type": "execute_result"
    }
   ],
   "source": [
    "query_term={'term':{\n",
    "              'text':{\n",
    "                  'value':'assessment', \n",
    "                   'boost':1.0}\n",
    "                }\n",
    "            }\n",
    "\n",
    "hits = es.search(index='pandemic_docs', query=query_term, size=5) \n",
    "hits['hits']"
   ]
  },
  {
   "cell_type": "markdown",
   "metadata": {},
   "source": [
    "### 3. Boolean Query"
   ]
  },
  {
   "cell_type": "code",
   "execution_count": 6,
   "metadata": {},
   "outputs": [
    {
     "data": {
      "text/plain": [
       "{'total': {'value': 158, 'relation': 'eq'},\n",
       " 'max_score': 7.7753215,\n",
       " 'hits': [{'_index': 'pandemic_docs',\n",
       "   '_id': 'eokCVIEB5DPWiFiNugme',\n",
       "   '_score': 7.7753215,\n",
       "   '_ignored': ['text.keyword'],\n",
       "   '_source': {'article_title': 'Johns Hopkins Center for Health Security',\n",
       "    'section_title': 'Summary',\n",
       "    'main_section': 'Summary',\n",
       "    'section_number': 0,\n",
       "    'page_id': 11008433,\n",
       "    'text': 'Johns Hopkins Center for Health Security,Summary\\nThe Johns Hopkins Center for Health Security (abbreviated CHS; previously the UPMC Center for Health Security, the Center for Biosecurity of UPMC, and the Johns Hopkins Center for Civilian Biodefense Strategies) is an independent, nonprofit organization of the Johns Hopkins Bloomberg School of Public Health, and part of the Environmental Health and Engineering department. It is concerned with the areas of health consequences from epidemics and disasters as well as averting biological weapons development, and implications of biosecurity for the bioeconomy. It is a think tank that does policy research and gives policy recommendations to the United States government as well as the World Health Organization and the UN Biological Weapons Convention.',\n",
       "    'source_url': 'https://en.wikipedia.org/wiki/Johns_Hopkins_Center_for_Health_Security',\n",
       "    'tags': 'Johns Hopkins Center for Health Security,Summary'}},\n",
       "  {'_index': 'pandemic_docs',\n",
       "   '_id': '44kCVIEB5DPWiFiNugmg',\n",
       "   '_score': 7.602386,\n",
       "   '_source': {'article_title': '1929–1930 psittacosis pandemic',\n",
       "    'section_title': 'Further reading',\n",
       "    'main_section': 'Further reading',\n",
       "    'section_number': 18,\n",
       "    'page_id': 60428423,\n",
       "    'text': '1929–1930 psittacosis pandemic,Further reading,References\\nAntonin Morange (1895). De la psittacose ou infection spéciale déterminée par les perruches. Médecine de Paris.\\nWeekly Epidemiological Record. World Health Organization; IRIS',\n",
       "    'source_url': 'https://en.wikipedia.org/wiki/1929%E2%80%931930_psittacosis_pandemic',\n",
       "    'tags': '1929–1930 psittacosis pandemic,Further reading,References'}},\n",
       "  {'_index': 'pandemic_docs',\n",
       "   '_id': 'aIkCVIEB5DPWiFiNugme',\n",
       "   '_score': 7.26242,\n",
       "   '_ignored': ['text.keyword'],\n",
       "   '_source': {'article_title': 'COVID-19 pandemic',\n",
       "    'section_title': 'Data and graphs',\n",
       "    'main_section': 'External links',\n",
       "    'section_number': 81,\n",
       "    'page_id': 62750956,\n",
       "    'text': 'COVID-19 pandemic,External links,Data and graphs\\nCoronavirus disease (COVID-2019) situation reports and map by the World Health Organization\\nCoronavirus Resource Center, map, and historical data by Johns Hopkins University\\nHistorical data about COVID-19 cases published by the European Centre for Disease Prevention and Control (ECDC)\\nWorld Travel Restrictions based on WFP data\\nCoronavirus Observer based on Johns Hopkins University data\\nCOVID-19 coronavirus pandemic published by Worldometer\\nCoronavirus Disease (COVID-19) Statistics and Research published by Our World in Data\\nCOVID-19 Projections for many countries published by Institute for Health Metrics and Evaluation\\nSpreadsheets: Country comparisons\\nSpreadsheets: Historical data with additional computations\\nEpidemic Calculator\\nStat News COVID-19 Tracker',\n",
       "    'source_url': 'https://en.wikipedia.org/wiki/COVID-19_pandemic',\n",
       "    'tags': 'COVID-19 pandemic,External links,Data and graphs'}},\n",
       "  {'_index': 'pandemic_docs',\n",
       "   '_id': 'ZokCVIEB5DPWiFiNugme',\n",
       "   '_score': 7.253867,\n",
       "   '_ignored': ['text.keyword'],\n",
       "   '_source': {'article_title': 'COVID-19 pandemic',\n",
       "    'section_title': 'Health agencies',\n",
       "    'main_section': 'External links',\n",
       "    'section_number': 79,\n",
       "    'page_id': 62750956,\n",
       "    'text': 'COVID-19 pandemic,External links,Health agencies\\nCOVID-19 (Questions & Answers, instructional videos; Facts/MythBusters) by the World Health Organization\\nCOVID-19 by the Government of Canada\\nCOVID-19 by the National Health Commission, China\\nCOVID-19 (Q&A) by the European Centre for Disease Prevention and Control\\nCOVID-19 (Q&A) by the Ministry of Health, Singapore\\nCOVID-19 (Q&A) by the U.S. Centers for Disease Control\\nNIH COVID-19 Portfolio by the U.S. National Institutes of Health\\nCoronavirus Disease 2019 (Q&A) by the U.S. National Institute for Occupational Safety and Health',\n",
       "    'source_url': 'https://en.wikipedia.org/wiki/COVID-19_pandemic',\n",
       "    'tags': 'COVID-19 pandemic,External links,Health agencies'}},\n",
       "  {'_index': 'pandemic_docs',\n",
       "   '_id': '4IkCVIEB5DPWiFiNugid',\n",
       "   '_score': 6.9860735,\n",
       "   '_ignored': ['text.keyword'],\n",
       "   '_source': {'article_title': 'Pandemic',\n",
       "    'section_title': 'Zika virus',\n",
       "    'main_section': 'Concerns about future pandemics',\n",
       "    'section_number': 31,\n",
       "    'page_id': 24255,\n",
       "    'text': 'Pandemic,Concerns about future pandemics,Concerning diseases,Zika virus\\nAn outbreak of Zika virus began in 2015 and strongly intensified throughout the start of 2016, with more than 1.5 million cases across more than a dozen countries in the Americas. The World Health Organization warned that Zika had the potential to become an explosive global pandemic if the outbreak was not controlled.',\n",
       "    'source_url': 'https://en.wikipedia.org/wiki/Pandemic',\n",
       "    'tags': 'Pandemic,Concerns about future pandemics,Concerning diseases,Zika virus'}}]}"
      ]
     },
     "execution_count": 6,
     "metadata": {},
     "output_type": "execute_result"
    }
   ],
   "source": [
    "# Boolean search - `World Health Organziation` with match; filter out `External links`\n",
    "query={'bool':{\n",
    "          'must': {'match': {\n",
    "                      'text':'World Health Organization'}\n",
    "                      },\n",
    "          'must_not': {'match': {\n",
    "                        'section_title.keyword': 'External links'}\n",
    "                    }\n",
    "          }\n",
    "}  \n",
    "hits = es.search(index='pandemic_docs', query=query, size=5) \n",
    "hits['hits']"
   ]
  },
  {
   "cell_type": "code",
   "execution_count": 7,
   "metadata": {},
   "outputs": [
    {
     "data": {
      "text/plain": [
       "{'total': {'value': 3, 'relation': 'eq'},\n",
       " 'max_score': 24.675499,\n",
       " 'hits': [{'_index': 'pandemic_docs',\n",
       "   '_id': '94kCVIEB5DPWiFiNugmg',\n",
       "   '_score': 24.675499,\n",
       "   '_ignored': ['text.keyword'],\n",
       "   '_source': {'article_title': 'Swine influenza',\n",
       "    'section_title': 'Summary',\n",
       "    'main_section': 'Summary',\n",
       "    'section_number': 0,\n",
       "    'page_id': 1516915,\n",
       "    'text': 'Swine influenza,Summary\\nSwine influenza is an infection caused by any one of several types of swine influenza viruses. Swine influenza virus (SIV) or swine-origin influenza virus (S-OIV) is any strain of the influenza family of viruses that is endemic in pigs. As of 2009, the known SIV strains include influenza C and the subtypes of  influenza A known as H1N1, H1N2, H2N1, H3N1, H3N2, and H2N3.\\nSwine influenza virus is common throughout pig populations worldwide. Transmission of the virus from pigs to humans is not common and does not always lead to human flu, often resulting only in the production of antibodies in the blood. If transmission does cause human flu, it is called zoonotic swine flu. People with regular exposure to pigs are at increased risk of swine flu infection.\\nAround the mid-20th century, identification of influenza subtypes became possible, allowing accurate diagnosis of transmission to humans. Since then, only 50 such transmissions have been confirmed. These strains of swine flu rarely pass from human to human. Symptoms of zoonotic swine flu in humans are similar to those of influenza and of influenza-like illness in general, namely chills, fever, sore throat, muscle pains, severe headache, coughing, weakness, shortness of breath, and general discomfort.\\nIt is estimated that in the 2009 flu pandemic 11–21% of the then global population (of about 6.8 billion), or around 700 million to 1.4 billion people, contracted the illness—more in absolute terms than the Spanish flu pandemic. There were 18,449 confirmed fatalities. However, in a 2012 study, the CDC estimated more than 284,000 possible fatalities worldwide, with range from 150,000 to 575,000.\\nIn August 2010, the World Health Organization declared the swine flu pandemic officially over.Subsequent cases of swine flu were reported in India in 2015, with over 31,156 positive test cases and 1,841 deaths up to March 2015.',\n",
       "    'source_url': 'https://en.wikipedia.org/wiki/Swine_influenza',\n",
       "    'tags': 'Swine influenza,Summary'}},\n",
       "  {'_index': 'pandemic_docs',\n",
       "   '_id': 'yYkCVIEB5DPWiFiNugid',\n",
       "   '_score': 23.835,\n",
       "   '_ignored': ['text.keyword'],\n",
       "   '_source': {'article_title': 'Pandemic',\n",
       "    'section_title': 'Summary',\n",
       "    'main_section': 'Summary',\n",
       "    'section_number': 0,\n",
       "    'page_id': 24255,\n",
       "    'text': 'Pandemic,Summary\\nA pandemic (from Greek πᾶν, pan, \"all\" and δῆμος, demos, \"people\") is an epidemic of an infectious disease that has spread across a large region, for instance multiple continents or worldwide, affecting a substantial number of people. A widespread endemic disease with a stable number of infected people is not a pandemic. Widespread endemic diseases with a stable number of infected people such as recurrences of seasonal influenza are generally excluded as they occur simultaneously in large regions of the globe rather than being spread worldwide.\\nThroughout human history, there have been a number of pandemics of diseases such as smallpox and tuberculosis. The most fatal pandemic in recorded history was the Black Death (also known as The Plague), which killed an estimated 75–200 million people in the 14th century. The term was not used yet but was for later pandemics including the 1918 influenza pandemic (Spanish flu). Current pandemics include COVID-19 (SARS-CoV-2) and HIV/AIDS.',\n",
       "    'source_url': 'https://en.wikipedia.org/wiki/Pandemic',\n",
       "    'tags': 'Pandemic,Summary'}},\n",
       "  {'_index': 'pandemic_docs',\n",
       "   '_id': 'HIkCVIEB5DPWiFiNugqh',\n",
       "   '_score': 19.322956,\n",
       "   '_ignored': ['text.keyword'],\n",
       "   '_source': {'article_title': 'Unified Victim Identification System',\n",
       "    'section_title': 'Summary',\n",
       "    'main_section': 'Summary',\n",
       "    'section_number': 0,\n",
       "    'page_id': 23142825,\n",
       "    'text': \"Unified Victim Identification System,Summary\\nThe Unified Victim Identification System (UVIS) is an Internet-enabled database system developed for the Office of Chief Medical Examiner of the City of New York (OCME) in the aftermath of the September 11 attacks on New York City and the crash of American Airlines Flight 587.  It is intended to handle critical fatality management functions made necessary by a major disaster. UVIS is a strong flexible role-based application and permissions can be controlled dynamically.In the event of a mass casualty event, it will initially be used by New York City's 311 call center operators, the New York Police Department, and OCME to gather key information to facilitate compiling an accurate list of missing persons.  UVIS will also be used by the OCME to track decedents and collect postmortem findings to facilitate the identification process after a disaster.  UVIS also contains a Pandemic Flu module to prepare against such an eventuality.  UVIS is a strong flexible role-based application and permissions can be controlled dynamically.\\nUVIS was built for the OCME by Nihilent, a consulting & solution integration company, and is a leading design thinking company, (formerly known as ICRA Sapphire).Developed with public funds, UVIS is available to municipalities, counties, states, and other governmental agencies without charge, under license from New York City. Currently UVIS is in use at the Office of Chief Medical Examiner of the City of New York (OCME) and the State of New Jersey (OCSME).\",\n",
       "    'source_url': 'https://en.wikipedia.org/wiki/Unified_Victim_Identification_System',\n",
       "    'tags': 'Unified Victim Identification System,Summary'}}]}"
      ]
     },
     "execution_count": 7,
     "metadata": {},
     "output_type": "execute_result"
    }
   ],
   "source": [
    "# Boolean Search - match `Spanish Flu` and boost `Summary` section\n",
    "query={'bool':{\n",
    "          'must': [\n",
    "              {'match': {\n",
    "                   'text':'Spanish flu'}\n",
    "                   },\n",
    "              {'match':{\n",
    "                    'main_section': {\n",
    "                            'query':'Summary','boost': '5'}\n",
    "                            }\n",
    "                     }\n",
    "              ]\n",
    "       }\n",
    "}\n",
    "    \n",
    "hits = es.search(index='pandemic_docs', query=query, size=5) \n",
    "hits['hits']"
   ]
  },
  {
   "cell_type": "markdown",
   "metadata": {},
   "source": [
    "### 4. Highlight"
   ]
  },
  {
   "cell_type": "code",
   "execution_count": 7,
   "metadata": {},
   "outputs": [
    {
     "name": "stderr",
     "output_type": "stream",
     "text": [
      "/tmp/ipykernel_133358/2214272207.py:18: DeprecationWarning: The 'body' parameter is deprecated and will be removed in a future version. Instead use individual parameters.\n",
      "  hits = es.search(index='pandemic_docs', body=body, size=5)\n"
     ]
    },
    {
     "data": {
      "text/plain": [
       "{'total': {'value': 11, 'relation': 'eq'},\n",
       " 'max_score': 6.931862,\n",
       " 'hits': [{'_index': 'pandemic_docs',\n",
       "   '_id': '5okCVIEB5DPWiFiNugmg',\n",
       "   '_score': 6.931862,\n",
       "   '_ignored': ['text.keyword'],\n",
       "   '_source': {'article_title': 'Science diplomacy and pandemics',\n",
       "    'section_title': 'Ebola',\n",
       "    'main_section': 'Ebola',\n",
       "    'section_number': 2,\n",
       "    'page_id': 63936969,\n",
       "    'text': \"Science diplomacy and pandemics,Ebola\\nThe Western African Ebola virus epidemic took more than 11,000 lives. Science diplomats traveled the world and worked with scientists from other countries in the hope of finding a vaccine to conquer the Ebola outbreak. The Ebola virus causes severe bleeding causing organ failure, lack of oxygen to the body, and it can lead to death. Scientists first discovered the Ebola virus in 1976 in Democratic Republic of Congo. Since then it has spread to other countries. It affected mostly West African countries. The largest outbreak of the Ebola virus from 2014 to 2016. There were over 28,000 cases. The virus had spread to Guinea, Liberia, Guinea, Ivory Coast, Gabon, Sierra Leone, Mali, Nigeria, Italy, the United States, and more. The virus spread to more than 17 countries. UNESCO played a huge role in preventing the spread of Ebola to neighboring cities and countries of West Africa. They funded $20,000 to a radio station in Sierra Leone to keep the people informed about the virus and the precautions that they could take in order to avoid it. Ebola did not spread to Koinadugu, Sierra Leone even though it borders the Republic of Guinea. which had 3814 cases and 2844 deathsMoreover, the United Nations and International Non-Governmental Organizations have supported the public health response to bring an end to the Ebola epidemic in the Democratic Republic of Congo (DRC). They have made huge efforts to track the Ebola virus, to find out where it moves next in order to prevent transmission of the virus. The first Ebola outbreak was discovered in the DRC in a village near the Ebola River, which gave the virus its name. The 1976 Ebola outbreak was much more contained than the 2014–2016 outbreak. The 1976 Ebola outbreak lasted about 11 weeks. There were 318 cases and 280 deaths. The death rate was around 88 percent. In contrast, the Western African Ebola virus epidemic lasted more than two years, had nearly 29,000 cases and 11,310 deaths. The death rate of the Western African Ebola virus epidemic was around 50 percent.During the Western African Ebola virus epidemic, science diplomats and other medical professionals traveled around the world to help track the outbreak. They tried to reduce the number of cases and deaths of the Ebola virus by studying the disease and testing possible vaccines or treatments to contain it. Even though it looked like they were not progressing, Scientists made huge efforts to minimize the Ebola virus. They tested many vaccines and treatments. Canadian scientists had been working on the Ebola vaccine research decades before the 2014–2016 outbreak. But, they were not making huge progress because they did not have enough funding. In 2010, Lead scientists left to do other research. But, one dedicated manager kept the research going. It wasn't until the 2014–2016 outbreak that they received more funding. In August 2014, Canada donated 3.6 million dollars to the WHO and MSF. Scientists received more than 120 million dollars from the Canadian government, the US government, and the WHO to support clinical trials during the epidemic. Canada developed the first vaccine approved by the world. Millions of dollars were spent to create the vaccine and it was developed by Merck. But it would not have happened without scientists from three different continents in multiple countries. The vaccine ERVEBO is used to protect against the Ebola virus. It was approved by the Food and Drug Administration in December 2019. Although there are no antiviral drugs approved by the FDA to treat people who currently have Ebola, there are alternative treatments such as: IV fluids, oxygen support, blood transfusions, and the vaccine ERVEBO, among others.\",\n",
       "    'source_url': 'https://en.wikipedia.org/wiki/Science_diplomacy_and_pandemics',\n",
       "    'tags': 'Science diplomacy and pandemics,Ebola'},\n",
       "   'highlight': {'text': ['Science diplomacy and pandemics,<em>Ebola</em>\\nThe Western African <em>Ebola</em> virus epidemic took more than 11,000',\n",
       "     'Scientists first discovered the <em>Ebola</em> virus in 1976 in Democratic Republic of Congo.',\n",
       "     'The first <em>Ebola</em> outbreak was discovered in the DRC in a village near the <em>Ebola</em> River, which gave the',\n",
       "     'The 1976 <em>Ebola</em> outbreak was much more contained than the 2014–2016 outbreak.',\n",
       "     'The vaccine ERVEBO is used to protect against the <em>Ebola</em> virus.']}},\n",
       "  {'_index': 'pandemic_docs',\n",
       "   '_id': '6YkCVIEB5DPWiFiNugmg',\n",
       "   '_score': 6.2942963,\n",
       "   '_ignored': ['text.keyword'],\n",
       "   '_source': {'article_title': 'Science diplomacy and pandemics',\n",
       "    'section_title': 'See also',\n",
       "    'main_section': 'See also',\n",
       "    'section_number': 5,\n",
       "    'page_id': 63936969,\n",
       "    'text': \"Science diplomacy and pandemics,See also\\n2002-2004 SARS outbreak\\n2015-2016 Zika virus epidemic\\nCOVID-19 pandemic\\nCOVID-19 vaccine\\nEbola vaccine\\nList of Ebola outbreaks\\nSARS\\nWorld Health Organization's response to the COVID-19 pandemic\\nZika virus vaccine\\nZika virus outbreak timeline\\n\\n\\n== References ==\",\n",
       "    'source_url': 'https://en.wikipedia.org/wiki/Science_diplomacy_and_pandemics',\n",
       "    'tags': 'Science diplomacy and pandemics,See also'},\n",
       "   'highlight': {'text': ['pandemics,See also\\n2002-2004 SARS outbreak\\n2015-2016 Zika virus epidemic\\nCOVID-19 pandemic\\nCOVID-19 vaccine\\n<em>Ebola</em>',\n",
       "     \"vaccine\\nList of <em>Ebola</em> outbreaks\\nSARS\\nWorld Health Organization's response to the COVID-19 pandemic\\nZika\"]}},\n",
       "  {'_index': 'pandemic_docs',\n",
       "   '_id': '7okCVIEB5DPWiFiNugmg',\n",
       "   '_score': 5.039447,\n",
       "   '_ignored': ['text.keyword'],\n",
       "   '_source': {'article_title': 'Superspreading event',\n",
       "    'section_title': 'Individual reproductive number',\n",
       "    'main_section': 'Factors in transmission',\n",
       "    'section_number': 4,\n",
       "    'page_id': 39958236,\n",
       "    'text': 'Superspreading event,Factors in transmission,Individual reproductive number\\nThe individual reproductive number represents the number of secondary infections caused by a specific individual during the time that individual is infectious. Some individuals have significantly higher than average individual reproductive numbers and are known as superspreaders. Through contact tracing, epidemiologists have identified superspreaders in measles, tuberculosis, rubella, monkeypox, smallpox, Ebola hemorrhagic fever and SARS.',\n",
       "    'source_url': 'https://en.wikipedia.org/wiki/Superspreading_event',\n",
       "    'tags': 'Superspreading event,Factors in transmission,Individual reproductive number'},\n",
       "   'highlight': {'text': ['epidemiologists have identified superspreaders in measles, tuberculosis, rubella, monkeypox, smallpox, <em>Ebola</em>']}},\n",
       "  {'_index': 'pandemic_docs',\n",
       "   '_id': 'yYkCVIEB5DPWiFiNugmg',\n",
       "   '_score': 4.5926633,\n",
       "   '_ignored': ['text.keyword'],\n",
       "   '_source': {'article_title': 'Plague of Cyprian',\n",
       "    'section_title': 'Summary',\n",
       "    'main_section': 'Summary',\n",
       "    'section_number': 0,\n",
       "    'page_id': 16856479,\n",
       "    'text': 'Plague of Cyprian,Summary\\nThe Plague of Cyprian was a pandemic that afflicted the Roman Empire about from AD 249 to 262. The plague is thought to have caused widespread manpower shortages for food production and the Roman army, severely weakening the empire during the Crisis of the Third Century. Its modern name commemorates St. Cyprian, bishop of Carthage, an early Christian writer who witnessed and described the plague. The agent of the plague is highly speculative because of sparse sourcing, but suspects have included smallpox, pandemic influenza and viral hemorrhagic fever (filoviruses) like the Ebola virus.',\n",
       "    'source_url': 'https://en.wikipedia.org/wiki/Plague_of_Cyprian',\n",
       "    'tags': 'Plague of Cyprian,Summary'},\n",
       "   'highlight': {'text': ['suspects have included smallpox, pandemic influenza and viral hemorrhagic fever (filoviruses) like the <em>Ebola</em>']}},\n",
       "  {'_index': 'pandemic_docs',\n",
       "   '_id': 'y4kCVIEB5DPWiFiNugmg',\n",
       "   '_score': 4.2571707,\n",
       "   '_ignored': ['text.keyword'],\n",
       "   '_source': {'article_title': 'Plague of Cyprian',\n",
       "    'section_title': 'Epidemiology',\n",
       "    'main_section': 'Epidemiology',\n",
       "    'section_number': 2,\n",
       "    'page_id': 16856479,\n",
       "    'text': \"Plague of Cyprian,Epidemiology\\nThe severe devastation to the European population from the two plagues may indicate that the people had no previous exposure or immunity to the plague's cause. The historian William Hardy McNeill asserts that both the earlier Antonine Plague (166–180) and the Plague of Cyprian (251–270) were the first transfers from animal hosts to humanity of two different diseases, one of smallpox and one of measles, but not necessarily in that order. D. Ch. Stathakopoulos asserts that both outbreaks were of smallpox.According to the historian Kyle Harper, the symptoms attributed by ancient sources to the Plague of Cyprian better match a viral disease causing a hemorrhagic fever, such as ebola, rather than smallpox. (Conversely, Harper believes that the Antonine Plague was caused by smallpox.)\",\n",
       "    'source_url': 'https://en.wikipedia.org/wiki/Plague_of_Cyprian',\n",
       "    'tags': 'Plague of Cyprian,Epidemiology'},\n",
       "   'highlight': {'text': ['sources to the Plague of Cyprian better match a viral disease causing a hemorrhagic fever, such as <em>ebola</em>']}}]}"
      ]
     },
     "execution_count": 7,
     "metadata": {},
     "output_type": "execute_result"
    }
   ],
   "source": [
    "body={'query':{\n",
    "          'bool':{\n",
    "              'must': {'match': {\n",
    "                            'text':'ebola'}\n",
    "                      },\n",
    "              'must_not': {'match': {\n",
    "                            'section_title.keyword': 'External links'}\n",
    "                        },\n",
    "              }\n",
    "        },\n",
    "            'highlight': {\n",
    "                 'fields': {\n",
    "                     'text': {},\n",
    "                     }\n",
    "            }\n",
    "    }\n",
    "\n",
    "hits = es.search(index='pandemic_docs', body=body, size=5) \n",
    "hits['hits']"
   ]
  }
 ],
 "metadata": {
  "interpreter": {
   "hash": "92b3875b50552a19f5c8b904a9bd9455a012f7f4a6644b61f5845177f2c2dbee"
  },
  "kernelspec": {
   "display_name": "Python 3.8.10 ('semantic_searchenv': venv)",
   "language": "python",
   "name": "python3"
  },
  "language_info": {
   "codemirror_mode": {
    "name": "ipython",
    "version": 3
   },
   "file_extension": ".py",
   "mimetype": "text/x-python",
   "name": "python",
   "nbconvert_exporter": "python",
   "pygments_lexer": "ipython3",
   "version": "3.8.10"
  },
  "orig_nbformat": 4
 },
 "nbformat": 4,
 "nbformat_minor": 2
}
